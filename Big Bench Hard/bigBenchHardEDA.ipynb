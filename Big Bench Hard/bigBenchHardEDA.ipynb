{
 "cells": [
  {
   "cell_type": "code",
   "execution_count": 24,
   "metadata": {},
   "outputs": [],
   "source": [
    "import json\n",
    "import pandas as pd\n",
    "import numpy as np\n",
    "import seaborn as sns\n",
    "import matplotlib as ply\n",
    "from pathlib import Path\n",
    "pd.set_option('display.max_colwidth', 1000)\n",
    "data_path = \"Big Bench Hard/data\""
   ]
  },
  {
   "cell_type": "code",
   "execution_count": 28,
   "metadata": {},
   "outputs": [
    {
     "data": {
      "text/plain": [
       "dict"
      ]
     },
     "execution_count": 28,
     "metadata": {},
     "output_type": "execute_result"
    }
   ],
   "source": [
    "with open(f\"{data_path}/web_of_lies.json\") as file:\n",
    "    data = json.load(file)\n",
    "\n",
    "type(data)"
   ]
  },
  {
   "cell_type": "code",
   "execution_count": 32,
   "metadata": {},
   "outputs": [],
   "source": [
    "df = pd.DataFrame(data['examples'])"
   ]
  },
  {
   "cell_type": "code",
   "execution_count": 46,
   "metadata": {},
   "outputs": [
    {
     "data": {
      "text/html": [
       "<div>\n",
       "<style scoped>\n",
       "    .dataframe tbody tr th:only-of-type {\n",
       "        vertical-align: middle;\n",
       "    }\n",
       "\n",
       "    .dataframe tbody tr th {\n",
       "        vertical-align: top;\n",
       "    }\n",
       "\n",
       "    .dataframe thead th {\n",
       "        text-align: right;\n",
       "    }\n",
       "</style>\n",
       "<table border=\"1\" class=\"dataframe\">\n",
       "  <thead>\n",
       "    <tr style=\"text-align: right;\">\n",
       "      <th></th>\n",
       "      <th>input</th>\n",
       "      <th>target</th>\n",
       "    </tr>\n",
       "  </thead>\n",
       "  <tbody>\n",
       "    <tr>\n",
       "      <th>0</th>\n",
       "      <td>Sherrie tells the truth. Vernell says Sherrie ...</td>\n",
       "      <td>No</td>\n",
       "    </tr>\n",
       "    <tr>\n",
       "      <th>1</th>\n",
       "      <td>Kristian lies. Sherrie says Kristian lies. Del...</td>\n",
       "      <td>No</td>\n",
       "    </tr>\n",
       "    <tr>\n",
       "      <th>2</th>\n",
       "      <td>Vina tells the truth. Helene says Vina lies. K...</td>\n",
       "      <td>No</td>\n",
       "    </tr>\n",
       "    <tr>\n",
       "      <th>3</th>\n",
       "      <td>Christie tells the truth. Ka says Christie tel...</td>\n",
       "      <td>No</td>\n",
       "    </tr>\n",
       "    <tr>\n",
       "      <th>4</th>\n",
       "      <td>Tamika lies. Raymond says Tamika tells the tru...</td>\n",
       "      <td>Yes</td>\n",
       "    </tr>\n",
       "    <tr>\n",
       "      <th>...</th>\n",
       "      <td>...</td>\n",
       "      <td>...</td>\n",
       "    </tr>\n",
       "    <tr>\n",
       "      <th>245</th>\n",
       "      <td>Alexis tells the truth. Amberly says Alexis te...</td>\n",
       "      <td>Yes</td>\n",
       "    </tr>\n",
       "    <tr>\n",
       "      <th>246</th>\n",
       "      <td>Gwenn lies. Maybelle says Gwenn tells the trut...</td>\n",
       "      <td>Yes</td>\n",
       "    </tr>\n",
       "    <tr>\n",
       "      <th>247</th>\n",
       "      <td>Kandi tells the truth. Ryan says Kandi lies. M...</td>\n",
       "      <td>Yes</td>\n",
       "    </tr>\n",
       "    <tr>\n",
       "      <th>248</th>\n",
       "      <td>Fletcher tells the truth. Alexis says Fletcher...</td>\n",
       "      <td>No</td>\n",
       "    </tr>\n",
       "    <tr>\n",
       "      <th>249</th>\n",
       "      <td>Sherrie tells the truth. Ryan says Sherrie lie...</td>\n",
       "      <td>No</td>\n",
       "    </tr>\n",
       "  </tbody>\n",
       "</table>\n",
       "<p>250 rows × 2 columns</p>\n",
       "</div>"
      ],
      "text/plain": [
       "                                                 input target\n",
       "0    Sherrie tells the truth. Vernell says Sherrie ...     No\n",
       "1    Kristian lies. Sherrie says Kristian lies. Del...     No\n",
       "2    Vina tells the truth. Helene says Vina lies. K...     No\n",
       "3    Christie tells the truth. Ka says Christie tel...     No\n",
       "4    Tamika lies. Raymond says Tamika tells the tru...    Yes\n",
       "..                                                 ...    ...\n",
       "245  Alexis tells the truth. Amberly says Alexis te...    Yes\n",
       "246  Gwenn lies. Maybelle says Gwenn tells the trut...    Yes\n",
       "247  Kandi tells the truth. Ryan says Kandi lies. M...    Yes\n",
       "248  Fletcher tells the truth. Alexis says Fletcher...     No\n",
       "249  Sherrie tells the truth. Ryan says Sherrie lie...     No\n",
       "\n",
       "[250 rows x 2 columns]"
      ]
     },
     "execution_count": 46,
     "metadata": {},
     "output_type": "execute_result"
    }
   ],
   "source": [
    "df['input'] = df['input'].str.strip().str.replace('Question:', '')\n",
    "df"
   ]
  },
  {
   "cell_type": "code",
   "execution_count": 47,
   "metadata": {},
   "outputs": [],
   "source": [
    "with open(f\"{data_path}/snarks.json\") as file:\n",
    "    snarks = json.load(file)"
   ]
  },
  {
   "cell_type": "code",
   "execution_count": 49,
   "metadata": {},
   "outputs": [],
   "source": [
    "snarks_df = pd.DataFrame(snarks['examples'])"
   ]
  },
  {
   "cell_type": "code",
   "execution_count": 53,
   "metadata": {},
   "outputs": [
    {
     "data": {
      "text/html": [
       "<div>\n",
       "<style scoped>\n",
       "    .dataframe tbody tr th:only-of-type {\n",
       "        vertical-align: middle;\n",
       "    }\n",
       "\n",
       "    .dataframe tbody tr th {\n",
       "        vertical-align: top;\n",
       "    }\n",
       "\n",
       "    .dataframe thead th {\n",
       "        text-align: right;\n",
       "    }\n",
       "</style>\n",
       "<table border=\"1\" class=\"dataframe\">\n",
       "  <thead>\n",
       "    <tr style=\"text-align: right;\">\n",
       "      <th></th>\n",
       "      <th>input</th>\n",
       "      <th>target</th>\n",
       "    </tr>\n",
       "  </thead>\n",
       "  <tbody>\n",
       "    <tr>\n",
       "      <th>0</th>\n",
       "      <td>Which statement is sarcastic?\\nOptions:\\n(A) He's a generous person, trying to promote a charity stream that has raised millions to help kids in need\\n(B) He's a terrible person, trying to promote a charity stream that has raised millions to help kids in need</td>\n",
       "      <td>(B)</td>\n",
       "    </tr>\n",
       "    <tr>\n",
       "      <th>1</th>\n",
       "      <td>Which statement is sarcastic?\\nOptions:\\n(A) Hey just be happy then you won't be depressed anymore\\n(B) Hey just be happy that you won't be depressed anymore</td>\n",
       "      <td>(A)</td>\n",
       "    </tr>\n",
       "    <tr>\n",
       "      <th>2</th>\n",
       "      <td>Which statement is sarcastic?\\nOptions:\\n(A) Just memeing about being racist, that's what keeps it okay\\n(B) Just memeing about being racist, that's what keeps it toxic</td>\n",
       "      <td>(A)</td>\n",
       "    </tr>\n",
       "    <tr>\n",
       "      <th>3</th>\n",
       "      <td>Which statement is sarcastic?\\nOptions:\\n(A) You are mistaken when you say that he should have just let them get away for assaulting him\\n(B) You are right when you say that he should have just let them get away for assaulting him</td>\n",
       "      <td>(B)</td>\n",
       "    </tr>\n",
       "    <tr>\n",
       "      <th>4</th>\n",
       "      <td>Which statement is sarcastic?\\nOptions:\\n(A) He didn't threaten, he only urged; totally different\\n(B) He didn't threaten, he only pleaded; totally different</td>\n",
       "      <td>(A)</td>\n",
       "    </tr>\n",
       "    <tr>\n",
       "      <th>...</th>\n",
       "      <td>...</td>\n",
       "      <td>...</td>\n",
       "    </tr>\n",
       "    <tr>\n",
       "      <th>173</th>\n",
       "      <td>Which statement is sarcastic?\\nOptions:\\n(A) If I associate something bad witih it, then my depression will never let me forget it. Weirdest memorization plan ever\\n(B) If I associate something bad witih it, then my depression will never let me forget it. Best memorization plan ever</td>\n",
       "      <td>(B)</td>\n",
       "    </tr>\n",
       "    <tr>\n",
       "      <th>174</th>\n",
       "      <td>Which statement is sarcastic?\\nOptions:\\n(A) Quit fat-shaming the cat! They're people, too, you know\\n(B) Quit fat-shaming the cat! They're sensitive, too, you know</td>\n",
       "      <td>(A)</td>\n",
       "    </tr>\n",
       "    <tr>\n",
       "      <th>175</th>\n",
       "      <td>Which statement is sarcastic?\\nOptions:\\n(A) With new designs coming ten times slower than their competitors, Honda will soon be at the top of the market\\n(B) With new designs coming ten times faster than their competitors, Honda will soon be at the top of the market</td>\n",
       "      <td>(A)</td>\n",
       "    </tr>\n",
       "    <tr>\n",
       "      <th>176</th>\n",
       "      <td>Which statement is sarcastic?\\nOptions:\\n(A) Generalizing half the population and acting like women can't think for themselves will totally win you points with the ladies\\n(B) Generalizing half the population and acting like women can't think for themselves will totally lose you points with the ladies</td>\n",
       "      <td>(A)</td>\n",
       "    </tr>\n",
       "    <tr>\n",
       "      <th>177</th>\n",
       "      <td>Which statement is sarcastic?\\nOptions:\\n(A) We've not spoken since graduating high school 7 years ago, she's basically my bestie\\n(B) We've consistently spoken since graduating high school 7 years ago, she's basically my bestie</td>\n",
       "      <td>(A)</td>\n",
       "    </tr>\n",
       "  </tbody>\n",
       "</table>\n",
       "<p>178 rows × 2 columns</p>\n",
       "</div>"
      ],
      "text/plain": [
       "                                                                                                                                                                                                                                                                                                              input target\n",
       "0                                               Which statement is sarcastic?\\nOptions:\\n(A) He's a generous person, trying to promote a charity stream that has raised millions to help kids in need\\n(B) He's a terrible person, trying to promote a charity stream that has raised millions to help kids in need    (B)\n",
       "1                                                                                                                                                     Which statement is sarcastic?\\nOptions:\\n(A) Hey just be happy then you won't be depressed anymore\\n(B) Hey just be happy that you won't be depressed anymore    (A)\n",
       "2                                                                                                                                          Which statement is sarcastic?\\nOptions:\\n(A) Just memeing about being racist, that's what keeps it okay\\n(B) Just memeing about being racist, that's what keeps it toxic    (A)\n",
       "3                                                                            Which statement is sarcastic?\\nOptions:\\n(A) You are mistaken when you say that he should have just let them get away for assaulting him\\n(B) You are right when you say that he should have just let them get away for assaulting him    (B)\n",
       "4                                                                                                                                                     Which statement is sarcastic?\\nOptions:\\n(A) He didn't threaten, he only urged; totally different\\n(B) He didn't threaten, he only pleaded; totally different    (A)\n",
       "..                                                                                                                                                                                                                                                                                                              ...    ...\n",
       "173                     Which statement is sarcastic?\\nOptions:\\n(A) If I associate something bad witih it, then my depression will never let me forget it. Weirdest memorization plan ever\\n(B) If I associate something bad witih it, then my depression will never let me forget it. Best memorization plan ever    (B)\n",
       "174                                                                                                                                            Which statement is sarcastic?\\nOptions:\\n(A) Quit fat-shaming the cat! They're people, too, you know\\n(B) Quit fat-shaming the cat! They're sensitive, too, you know    (A)\n",
       "175                                     Which statement is sarcastic?\\nOptions:\\n(A) With new designs coming ten times slower than their competitors, Honda will soon be at the top of the market\\n(B) With new designs coming ten times faster than their competitors, Honda will soon be at the top of the market    (A)\n",
       "176  Which statement is sarcastic?\\nOptions:\\n(A) Generalizing half the population and acting like women can't think for themselves will totally win you points with the ladies\\n(B) Generalizing half the population and acting like women can't think for themselves will totally lose you points with the ladies    (A)\n",
       "177                                                                            Which statement is sarcastic?\\nOptions:\\n(A) We've not spoken since graduating high school 7 years ago, she's basically my bestie\\n(B) We've consistently spoken since graduating high school 7 years ago, she's basically my bestie    (A)\n",
       "\n",
       "[178 rows x 2 columns]"
      ]
     },
     "execution_count": 53,
     "metadata": {},
     "output_type": "execute_result"
    }
   ],
   "source": [
    "snarks_df"
   ]
  },
  {
   "cell_type": "code",
   "execution_count": null,
   "metadata": {},
   "outputs": [],
   "source": []
  }
 ],
 "metadata": {
  "kernelspec": {
   "display_name": "base",
   "language": "python",
   "name": "python3"
  },
  "language_info": {
   "codemirror_mode": {
    "name": "ipython",
    "version": 3
   },
   "file_extension": ".py",
   "mimetype": "text/x-python",
   "name": "python",
   "nbconvert_exporter": "python",
   "pygments_lexer": "ipython3",
   "version": "3.10.14"
  }
 },
 "nbformat": 4,
 "nbformat_minor": 2
}
