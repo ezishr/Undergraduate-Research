{
 "cells": [
  {
   "cell_type": "code",
   "execution_count": 1,
   "metadata": {},
   "outputs": [],
   "source": [
    "import sys\n",
    "sys.path.append('../../Modules/')\n",
    "sys.path.append('../../Modules/Processors from Prof')\n",
    "from Packages import *\n",
    "from My_CSV_processor import *\n",
    "\n",
    "# Import processors from Prof\n",
    "from ipynb.fs.full.Utilities import *\n",
    "from ipynb.fs.full.Json_Processor import *\n",
    "from ipynb.fs.full.CSV_Processor import *"
   ]
  },
  {
   "cell_type": "code",
   "execution_count": 2,
   "metadata": {},
   "outputs": [],
   "source": [
    "boolean_df = FarelBench_CSV_Processor_my('Farel-Bench', 'farel_bench.csv').convert_df()"
   ]
  },
  {
   "cell_type": "code",
   "execution_count": 3,
   "metadata": {},
   "outputs": [
    {
     "data": {
      "text/html": [
       "<div>\n",
       "<style scoped>\n",
       "    .dataframe tbody tr th:only-of-type {\n",
       "        vertical-align: middle;\n",
       "    }\n",
       "\n",
       "    .dataframe tbody tr th {\n",
       "        vertical-align: top;\n",
       "    }\n",
       "\n",
       "    .dataframe thead th {\n",
       "        text-align: right;\n",
       "    }\n",
       "</style>\n",
       "<table border=\"1\" class=\"dataframe\">\n",
       "  <thead>\n",
       "    <tr style=\"text-align: right;\">\n",
       "      <th></th>\n",
       "      <th>topic</th>\n",
       "      <th>input</th>\n",
       "      <th>target</th>\n",
       "    </tr>\n",
       "  </thead>\n",
       "  <tbody>\n",
       "    <tr>\n",
       "      <th>0</th>\n",
       "      <td>child</td>\n",
       "      <td>Given the family relationships:\\n* Ralph is Anthony's parent.\\n* Albert is Ralph's parent.\\nWhat is Anthony's relationship to Ralph?\\nSelect the correct answer:\\n1. Anthony is Ralph's child.\\n2. Anthony is Ralph's parent.\\nEnclose the selected answer number in the &lt;ANSWER&gt; tag, for example: &lt;ANSWER&gt;1&lt;/ANSWER&gt;.</td>\n",
       "      <td>1</td>\n",
       "    </tr>\n",
       "    <tr>\n",
       "      <th>1</th>\n",
       "      <td>child</td>\n",
       "      <td>Given the family relationships:\\n* Jessica is John's parent.\\n* John is Lawrence's parent.\\nWhat is Lawrence's relationship to John?\\nSelect the correct answer:\\n1. Lawrence is John's parent.\\n2. Lawrence is John's child.\\nEnclose the selected answer number in the &lt;ANSWER&gt; tag, for example: &lt;ANSWER&gt;1&lt;/ANSWER&gt;.</td>\n",
       "      <td>1</td>\n",
       "    </tr>\n",
       "    <tr>\n",
       "      <th>2</th>\n",
       "      <td>child</td>\n",
       "      <td>Given the family relationships:\\n* Raymond is William's parent.\\n* Denise is Raymond's parent.\\nWhat is William's relationship to Raymond?\\nSelect the correct answer:\\n1. William is Raymond's parent.\\n2. William is Raymond's child.\\nEnclose the selected answer number in the &lt;ANSWER&gt; tag, for example: &lt;ANSWER&gt;1&lt;/ANSWER&gt;.</td>\n",
       "      <td>1</td>\n",
       "    </tr>\n",
       "    <tr>\n",
       "      <th>3</th>\n",
       "      <td>child</td>\n",
       "      <td>Given the family relationships:\\n* Samantha is Elijah's parent.\\n* Elijah is Joshua's parent.\\nWhat is Joshua's relationship to Elijah?\\nSelect the correct answer:\\n1. Joshua is Elijah's parent.\\n2. Joshua is Elijah's child.\\nEnclose the selected answer number in the &lt;ANSWER&gt; tag, for example: &lt;ANSWER&gt;1&lt;/ANSWER&gt;.</td>\n",
       "      <td>1</td>\n",
       "    </tr>\n",
       "    <tr>\n",
       "      <th>4</th>\n",
       "      <td>child</td>\n",
       "      <td>Given the family relationships:\\n* Anna is Charlotte's parent.\\n* Marie is Anna's parent.\\nWhat is Charlotte's relationship to Anna?\\nSelect the correct answer:\\n1. Charlotte is Anna's parent.\\n2. Charlotte is Anna's child.\\nEnclose the selected answer number in the &lt;ANSWER&gt; tag, for example: &lt;ANSWER&gt;1&lt;/ANSWER&gt;.</td>\n",
       "      <td>1</td>\n",
       "    </tr>\n",
       "    <tr>\n",
       "      <th>...</th>\n",
       "      <td>...</td>\n",
       "      <td>...</td>\n",
       "      <td>...</td>\n",
       "    </tr>\n",
       "    <tr>\n",
       "      <th>995</th>\n",
       "      <td>3rd great grandparent</td>\n",
       "      <td>Given the family relationships:\\n* Karen is Kathryn's parent.\\n* William is Jacqueline's parent.\\n* Keith is Kelly's parent.\\n* Linda is Andrea's parent.\\n* Alexis is Walter's parent.\\n* Ashley is William's parent.\\n* Alexis is Kathleen's parent.\\n* Randy is Victoria's parent.\\n* Karen is Samantha's parent.\\n* Victoria is Grace's parent.\\n* Andrea is Keith's parent.\\n* Walter is Roy's parent.\\n* Walter is Randy's parent.\\n* Grace is Shirley's parent.\\n* Anthony is Linda's parent.\\n* Samantha is Ashley's parent.\\n* Roy is Scott's parent.\\n* Kayla is Alexis' parent.\\n* Kathryn is Anthony's parent.\\n* Randy is Karen's parent.\\nWhat is Kayla's relationship to Kathryn?\\nSelect the correct answer:\\n1. Kayla is Kathryn's great grand-niece or great grand-nephew.\\n2. Kayla is Kathryn's 1st cousin 1x removed.\\n3. Kayla is Kathryn's 3rd great grandchild.\\n4. Kayla is Kathryn's 1st cousin 1x removed.\\n5. Kayla is Kathryn's 3rd great grandparent.\\n6. Kayla is Kathryn's great grand-aunt or great...</td>\n",
       "      <td>1</td>\n",
       "    </tr>\n",
       "    <tr>\n",
       "      <th>996</th>\n",
       "      <td>3rd great grandparent</td>\n",
       "      <td>Given the family relationships:\\n* Ann is Juan's parent.\\n* Austin is Judith's parent.\\n* Steven is Cynthia's parent.\\n* Amanda is Albert's parent.\\n* Debra is Amanda's parent.\\n* Keith is Steven's parent.\\n* Raymond is Willie's parent.\\n* Raymond is Terry's parent.\\n* Judith is Gloria's parent.\\n* Noah is Ann's parent.\\n* Cynthia is Austin's parent.\\n* Gabriel is Zachary's parent.\\n* Terry is Diane's parent.\\n* Samuel is Brandon's parent.\\n* Brandon is Anthony's parent.\\n* Willie is Gabriel's parent.\\n* Diane is Debra's parent.\\n* Ann is Samuel's parent.\\n* Samuel is Raymond's parent.\\n* Terry is Keith's parent.\\nWhat is Noah's relationship to Keith?\\nSelect the correct answer:\\n1. Noah is Keith's great grand-aunt or great grand-uncle.\\n2. Noah is Keith's 1st cousin 1x removed.\\n3. Noah is Keith's 3rd great grandparent.\\n4. Noah is Keith's 3rd great grandchild.\\n5. Noah is Keith's 1st cousin 1x removed.\\n6. Noah is Keith's great grand-niece or great grand-nephew.\\nEnclose the sele...</td>\n",
       "      <td>1</td>\n",
       "    </tr>\n",
       "    <tr>\n",
       "      <th>997</th>\n",
       "      <td>3rd great grandparent</td>\n",
       "      <td>Given the family relationships:\\n* Joan is Stephanie's parent.\\n* Gabriel is Bobby's parent.\\n* Jonathan is Patricia's parent.\\n* Walter is Lori's parent.\\n* Lori is Sharon's parent.\\n* Lawrence is Kathryn's parent.\\n* Daniel is Gabriel's parent.\\n* Scott is Bryan's parent.\\n* Lori is Daniel's parent.\\n* Cynthia is Joan's parent.\\n* Pamela is Walter's parent.\\n* Gabriel is Emily's parent.\\n* Kathryn is Scott's parent.\\n* Daniel is Cynthia's parent.\\n* Thomas is Jonathan's parent.\\n* Bobby is Thomas' parent.\\n* Bryan is Keith's parent.\\n* Sharon is Heather's parent.\\n* Walter is Adam's parent.\\n* Emily is Lawrence's parent.\\nWhat is Pamela's relationship to Emily?\\nSelect the correct answer:\\n1. Pamela is Emily's great grand-aunt or great grand-uncle.\\n2. Pamela is Emily's 3rd great grandparent.\\n3. Pamela is Emily's 1st cousin 1x removed.\\n4. Pamela is Emily's great grand-niece or great grand-nephew.\\n5. Pamela is Emily's 3rd great grandchild.\\n6. Pamela is Emily's 1st cousin 1x re...</td>\n",
       "      <td>1</td>\n",
       "    </tr>\n",
       "    <tr>\n",
       "      <th>998</th>\n",
       "      <td>3rd great grandparent</td>\n",
       "      <td>Given the family relationships:\\n* Katherine is Janet's parent.\\n* Deborah is Mary's parent.\\n* Theresa is Amy's parent.\\n* Deborah is Kimberly's parent.\\n* Patricia is Michelle's parent.\\n* Mary is Stephen's parent.\\n* Madison is Theresa's parent.\\n* Kelly is Patricia's parent.\\n* Ethan is Joshua's parent.\\n* Ethan is Madison's parent.\\n* Cheryl is Susan's parent.\\n* Stephen is Logan's parent.\\n* Michael is Abigail's parent.\\n* Kimberly is Jordan's parent.\\n* Jacqueline is Ethan's parent.\\n* Janet is Cheryl's parent.\\n* Katherine is Deborah's parent.\\n* Logan is Kelly's parent.\\n* Jordan is Michael's parent.\\n* Madison is Katherine's parent.\\nWhat is Jacqueline's relationship to Mary?\\nSelect the correct answer:\\n1. Jacqueline is Mary's great grand-aunt or great grand-uncle.\\n2. Jacqueline is Mary's 3rd great grandparent.\\n3. Jacqueline is Mary's 1st cousin 1x removed.\\n4. Jacqueline is Mary's great grand-niece or great grand-nephew.\\n5. Jacqueline is Mary's 3rd great grandchild.\\...</td>\n",
       "      <td>1</td>\n",
       "    </tr>\n",
       "    <tr>\n",
       "      <th>999</th>\n",
       "      <td>3rd great grandparent</td>\n",
       "      <td>Given the family relationships:\\n* Jack is Raymond's parent.\\n* Sarah is Joyce's parent.\\n* Ralph is Kyle's parent.\\n* Tyler is Roger's parent.\\n* Thomas is Jack's parent.\\n* Thomas is Bradley's parent.\\n* Sharon is Sandra's parent.\\n* Kyle is Karen's parent.\\n* Joyce is Andrew's parent.\\n* Raymond is Tyler's parent.\\n* Dennis is Mark's parent.\\n* Mason is Thomas' parent.\\n* Bradley is Steven's parent.\\n* Kyle is Dennis' parent.\\n* Roger is Robert's parent.\\n* Dennis is Mason's parent.\\n* Mason is Sarah's parent.\\n* Robert is Russell's parent.\\n* Mark is Lauren's parent.\\n* Steven is Sharon's parent.\\nWhat is Ralph's relationship to Jack?\\nSelect the correct answer:\\n1. Ralph is Jack's great grand-aunt or great grand-uncle.\\n2. Ralph is Jack's 3rd great grandchild.\\n3. Ralph is Jack's 3rd great grandparent.\\n4. Ralph is Jack's great grand-niece or great grand-nephew.\\n5. Ralph is Jack's 1st cousin 1x removed.\\n6. Ralph is Jack's 1st cousin 1x removed.\\nEnclose the selected answer n...</td>\n",
       "      <td>1</td>\n",
       "    </tr>\n",
       "  </tbody>\n",
       "</table>\n",
       "<p>1000 rows × 3 columns</p>\n",
       "</div>"
      ],
      "text/plain": [
       "                     topic  \\\n",
       "0                    child   \n",
       "1                    child   \n",
       "2                    child   \n",
       "3                    child   \n",
       "4                    child   \n",
       "..                     ...   \n",
       "995  3rd great grandparent   \n",
       "996  3rd great grandparent   \n",
       "997  3rd great grandparent   \n",
       "998  3rd great grandparent   \n",
       "999  3rd great grandparent   \n",
       "\n",
       "                                                                                                                                                                                                                                                                                                                                                                                                                                                                                                                                                                                                                                                                                                                                                                                                                                                                                                                                                                                                                                       input  \\\n",
       "0                                                                                                                                                                                                                                                                                                                                                                                                                                                                                                                                                                                                                                                                                                                    Given the family relationships:\\n* Ralph is Anthony's parent.\\n* Albert is Ralph's parent.\\nWhat is Anthony's relationship to Ralph?\\nSelect the correct answer:\\n1. Anthony is Ralph's child.\\n2. Anthony is Ralph's parent.\\nEnclose the selected answer number in the <ANSWER> tag, for example: <ANSWER>1</ANSWER>.   \n",
       "1                                                                                                                                                                                                                                                                                                                                                                                                                                                                                                                                                                                                                                                                                                                    Given the family relationships:\\n* Jessica is John's parent.\\n* John is Lawrence's parent.\\nWhat is Lawrence's relationship to John?\\nSelect the correct answer:\\n1. Lawrence is John's parent.\\n2. Lawrence is John's child.\\nEnclose the selected answer number in the <ANSWER> tag, for example: <ANSWER>1</ANSWER>.   \n",
       "2                                                                                                                                                                                                                                                                                                                                                                                                                                                                                                                                                                                                                                                                                                          Given the family relationships:\\n* Raymond is William's parent.\\n* Denise is Raymond's parent.\\nWhat is William's relationship to Raymond?\\nSelect the correct answer:\\n1. William is Raymond's parent.\\n2. William is Raymond's child.\\nEnclose the selected answer number in the <ANSWER> tag, for example: <ANSWER>1</ANSWER>.   \n",
       "3                                                                                                                                                                                                                                                                                                                                                                                                                                                                                                                                                                                                                                                                                                                 Given the family relationships:\\n* Samantha is Elijah's parent.\\n* Elijah is Joshua's parent.\\nWhat is Joshua's relationship to Elijah?\\nSelect the correct answer:\\n1. Joshua is Elijah's parent.\\n2. Joshua is Elijah's child.\\nEnclose the selected answer number in the <ANSWER> tag, for example: <ANSWER>1</ANSWER>.   \n",
       "4                                                                                                                                                                                                                                                                                                                                                                                                                                                                                                                                                                                                                                                                                                                  Given the family relationships:\\n* Anna is Charlotte's parent.\\n* Marie is Anna's parent.\\nWhat is Charlotte's relationship to Anna?\\nSelect the correct answer:\\n1. Charlotte is Anna's parent.\\n2. Charlotte is Anna's child.\\nEnclose the selected answer number in the <ANSWER> tag, for example: <ANSWER>1</ANSWER>.   \n",
       "..                                                                                                                                                                                                                                                                                                                                                                                                                                                                                                                                                                                                                                                                                                                                                                                                                                                                                                                                                                                                                                       ...   \n",
       "995  Given the family relationships:\\n* Karen is Kathryn's parent.\\n* William is Jacqueline's parent.\\n* Keith is Kelly's parent.\\n* Linda is Andrea's parent.\\n* Alexis is Walter's parent.\\n* Ashley is William's parent.\\n* Alexis is Kathleen's parent.\\n* Randy is Victoria's parent.\\n* Karen is Samantha's parent.\\n* Victoria is Grace's parent.\\n* Andrea is Keith's parent.\\n* Walter is Roy's parent.\\n* Walter is Randy's parent.\\n* Grace is Shirley's parent.\\n* Anthony is Linda's parent.\\n* Samantha is Ashley's parent.\\n* Roy is Scott's parent.\\n* Kayla is Alexis' parent.\\n* Kathryn is Anthony's parent.\\n* Randy is Karen's parent.\\nWhat is Kayla's relationship to Kathryn?\\nSelect the correct answer:\\n1. Kayla is Kathryn's great grand-niece or great grand-nephew.\\n2. Kayla is Kathryn's 1st cousin 1x removed.\\n3. Kayla is Kathryn's 3rd great grandchild.\\n4. Kayla is Kathryn's 1st cousin 1x removed.\\n5. Kayla is Kathryn's 3rd great grandparent.\\n6. Kayla is Kathryn's great grand-aunt or great...   \n",
       "996  Given the family relationships:\\n* Ann is Juan's parent.\\n* Austin is Judith's parent.\\n* Steven is Cynthia's parent.\\n* Amanda is Albert's parent.\\n* Debra is Amanda's parent.\\n* Keith is Steven's parent.\\n* Raymond is Willie's parent.\\n* Raymond is Terry's parent.\\n* Judith is Gloria's parent.\\n* Noah is Ann's parent.\\n* Cynthia is Austin's parent.\\n* Gabriel is Zachary's parent.\\n* Terry is Diane's parent.\\n* Samuel is Brandon's parent.\\n* Brandon is Anthony's parent.\\n* Willie is Gabriel's parent.\\n* Diane is Debra's parent.\\n* Ann is Samuel's parent.\\n* Samuel is Raymond's parent.\\n* Terry is Keith's parent.\\nWhat is Noah's relationship to Keith?\\nSelect the correct answer:\\n1. Noah is Keith's great grand-aunt or great grand-uncle.\\n2. Noah is Keith's 1st cousin 1x removed.\\n3. Noah is Keith's 3rd great grandparent.\\n4. Noah is Keith's 3rd great grandchild.\\n5. Noah is Keith's 1st cousin 1x removed.\\n6. Noah is Keith's great grand-niece or great grand-nephew.\\nEnclose the sele...   \n",
       "997  Given the family relationships:\\n* Joan is Stephanie's parent.\\n* Gabriel is Bobby's parent.\\n* Jonathan is Patricia's parent.\\n* Walter is Lori's parent.\\n* Lori is Sharon's parent.\\n* Lawrence is Kathryn's parent.\\n* Daniel is Gabriel's parent.\\n* Scott is Bryan's parent.\\n* Lori is Daniel's parent.\\n* Cynthia is Joan's parent.\\n* Pamela is Walter's parent.\\n* Gabriel is Emily's parent.\\n* Kathryn is Scott's parent.\\n* Daniel is Cynthia's parent.\\n* Thomas is Jonathan's parent.\\n* Bobby is Thomas' parent.\\n* Bryan is Keith's parent.\\n* Sharon is Heather's parent.\\n* Walter is Adam's parent.\\n* Emily is Lawrence's parent.\\nWhat is Pamela's relationship to Emily?\\nSelect the correct answer:\\n1. Pamela is Emily's great grand-aunt or great grand-uncle.\\n2. Pamela is Emily's 3rd great grandparent.\\n3. Pamela is Emily's 1st cousin 1x removed.\\n4. Pamela is Emily's great grand-niece or great grand-nephew.\\n5. Pamela is Emily's 3rd great grandchild.\\n6. Pamela is Emily's 1st cousin 1x re...   \n",
       "998  Given the family relationships:\\n* Katherine is Janet's parent.\\n* Deborah is Mary's parent.\\n* Theresa is Amy's parent.\\n* Deborah is Kimberly's parent.\\n* Patricia is Michelle's parent.\\n* Mary is Stephen's parent.\\n* Madison is Theresa's parent.\\n* Kelly is Patricia's parent.\\n* Ethan is Joshua's parent.\\n* Ethan is Madison's parent.\\n* Cheryl is Susan's parent.\\n* Stephen is Logan's parent.\\n* Michael is Abigail's parent.\\n* Kimberly is Jordan's parent.\\n* Jacqueline is Ethan's parent.\\n* Janet is Cheryl's parent.\\n* Katherine is Deborah's parent.\\n* Logan is Kelly's parent.\\n* Jordan is Michael's parent.\\n* Madison is Katherine's parent.\\nWhat is Jacqueline's relationship to Mary?\\nSelect the correct answer:\\n1. Jacqueline is Mary's great grand-aunt or great grand-uncle.\\n2. Jacqueline is Mary's 3rd great grandparent.\\n3. Jacqueline is Mary's 1st cousin 1x removed.\\n4. Jacqueline is Mary's great grand-niece or great grand-nephew.\\n5. Jacqueline is Mary's 3rd great grandchild.\\...   \n",
       "999  Given the family relationships:\\n* Jack is Raymond's parent.\\n* Sarah is Joyce's parent.\\n* Ralph is Kyle's parent.\\n* Tyler is Roger's parent.\\n* Thomas is Jack's parent.\\n* Thomas is Bradley's parent.\\n* Sharon is Sandra's parent.\\n* Kyle is Karen's parent.\\n* Joyce is Andrew's parent.\\n* Raymond is Tyler's parent.\\n* Dennis is Mark's parent.\\n* Mason is Thomas' parent.\\n* Bradley is Steven's parent.\\n* Kyle is Dennis' parent.\\n* Roger is Robert's parent.\\n* Dennis is Mason's parent.\\n* Mason is Sarah's parent.\\n* Robert is Russell's parent.\\n* Mark is Lauren's parent.\\n* Steven is Sharon's parent.\\nWhat is Ralph's relationship to Jack?\\nSelect the correct answer:\\n1. Ralph is Jack's great grand-aunt or great grand-uncle.\\n2. Ralph is Jack's 3rd great grandchild.\\n3. Ralph is Jack's 3rd great grandparent.\\n4. Ralph is Jack's great grand-niece or great grand-nephew.\\n5. Ralph is Jack's 1st cousin 1x removed.\\n6. Ralph is Jack's 1st cousin 1x removed.\\nEnclose the selected answer n...   \n",
       "\n",
       "    target  \n",
       "0        1  \n",
       "1        1  \n",
       "2        1  \n",
       "3        1  \n",
       "4        1  \n",
       "..     ...  \n",
       "995      1  \n",
       "996      1  \n",
       "997      1  \n",
       "998      1  \n",
       "999      1  \n",
       "\n",
       "[1000 rows x 3 columns]"
      ]
     },
     "execution_count": 3,
     "metadata": {},
     "output_type": "execute_result"
    }
   ],
   "source": [
    "boolean_df"
   ]
  },
  {
   "cell_type": "code",
   "execution_count": 4,
   "metadata": {},
   "outputs": [
    {
     "data": {
      "text/plain": [
       "'1'"
      ]
     },
     "execution_count": 4,
     "metadata": {},
     "output_type": "execute_result"
    }
   ],
   "source": [
    "boolean_df['target'].iloc[3,]"
   ]
  }
 ],
 "metadata": {
  "kernelspec": {
   "display_name": "python_env",
   "language": "python",
   "name": "python3"
  },
  "language_info": {
   "codemirror_mode": {
    "name": "ipython",
    "version": 3
   },
   "file_extension": ".py",
   "mimetype": "text/x-python",
   "name": "python",
   "nbconvert_exporter": "python",
   "pygments_lexer": "ipython3",
   "version": "3.12.7"
  }
 },
 "nbformat": 4,
 "nbformat_minor": 2
}
