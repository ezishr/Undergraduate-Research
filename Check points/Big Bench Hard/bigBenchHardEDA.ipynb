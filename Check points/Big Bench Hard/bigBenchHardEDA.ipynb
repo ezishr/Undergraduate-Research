{
 "cells": [
  {
   "cell_type": "code",
   "execution_count": 1,
   "metadata": {},
   "outputs": [],
   "source": [
    "import sys\n",
    "sys.path.append('../../Modules/')\n",
    "sys.path.append('../../Modules/Processors from Prof')\n",
    "from Packages import *\n",
    "from My_Json_processor import *\n",
    "\n",
    "# Import processors from Prof\n",
    "from ipynb.fs.full.Utilities import *\n",
    "from ipynb.fs.full.Json_Processor import *\n",
    "from ipynb.fs.full.CSV_Processor import *"
   ]
  },
  {
   "cell_type": "markdown",
   "metadata": {},
   "source": [
    "### My Testing"
   ]
  },
  {
   "cell_type": "code",
   "execution_count": 2,
   "metadata": {},
   "outputs": [],
   "source": [
    "boolean_df = Big_Bench_Json_Processor_my('Big Bench Hard', 'boolean_expressions.json').convert_df()"
   ]
  },
  {
   "cell_type": "code",
   "execution_count": 3,
   "metadata": {},
   "outputs": [
    {
     "data": {
      "text/html": [
       "<div>\n",
       "<style scoped>\n",
       "    .dataframe tbody tr th:only-of-type {\n",
       "        vertical-align: middle;\n",
       "    }\n",
       "\n",
       "    .dataframe tbody tr th {\n",
       "        vertical-align: top;\n",
       "    }\n",
       "\n",
       "    .dataframe thead th {\n",
       "        text-align: right;\n",
       "    }\n",
       "</style>\n",
       "<table border=\"1\" class=\"dataframe\">\n",
       "  <thead>\n",
       "    <tr style=\"text-align: right;\">\n",
       "      <th></th>\n",
       "      <th>input</th>\n",
       "      <th>target</th>\n",
       "    </tr>\n",
       "  </thead>\n",
       "  <tbody>\n",
       "    <tr>\n",
       "      <th>0</th>\n",
       "      <td>not ( True ) and ( True ) is</td>\n",
       "      <td>False</td>\n",
       "    </tr>\n",
       "    <tr>\n",
       "      <th>1</th>\n",
       "      <td>True and not not ( not False ) is</td>\n",
       "      <td>True</td>\n",
       "    </tr>\n",
       "    <tr>\n",
       "      <th>2</th>\n",
       "      <td>not True or False or ( False ) is</td>\n",
       "      <td>False</td>\n",
       "    </tr>\n",
       "    <tr>\n",
       "      <th>3</th>\n",
       "      <td>False or not ( True ) and False is</td>\n",
       "      <td>False</td>\n",
       "    </tr>\n",
       "    <tr>\n",
       "      <th>4</th>\n",
       "      <td>True or not False and True and False is</td>\n",
       "      <td>True</td>\n",
       "    </tr>\n",
       "    <tr>\n",
       "      <th>5</th>\n",
       "      <td>False or not not not False and True is</td>\n",
       "      <td>True</td>\n",
       "    </tr>\n",
       "    <tr>\n",
       "      <th>6</th>\n",
       "      <td>not True and ( False or True ) is</td>\n",
       "      <td>False</td>\n",
       "    </tr>\n",
       "    <tr>\n",
       "      <th>7</th>\n",
       "      <td>True and not False or ( True ) is</td>\n",
       "      <td>True</td>\n",
       "    </tr>\n",
       "    <tr>\n",
       "      <th>8</th>\n",
       "      <td>not True or ( False and True ) is</td>\n",
       "      <td>False</td>\n",
       "    </tr>\n",
       "    <tr>\n",
       "      <th>9</th>\n",
       "      <td>not True or ( True or False ) is</td>\n",
       "      <td>True</td>\n",
       "    </tr>\n",
       "    <tr>\n",
       "      <th>10</th>\n",
       "      <td>False or ( False ) and not False is</td>\n",
       "      <td>False</td>\n",
       "    </tr>\n",
       "    <tr>\n",
       "      <th>11</th>\n",
       "      <td>not False or True and False and False is</td>\n",
       "      <td>True</td>\n",
       "    </tr>\n",
       "    <tr>\n",
       "      <th>12</th>\n",
       "      <td>not True or False or not not True is</td>\n",
       "      <td>True</td>\n",
       "    </tr>\n",
       "    <tr>\n",
       "      <th>13</th>\n",
       "      <td>True and True and False and not True is</td>\n",
       "      <td>False</td>\n",
       "    </tr>\n",
       "    <tr>\n",
       "      <th>14</th>\n",
       "      <td>not not True and not True or True is</td>\n",
       "      <td>True</td>\n",
       "    </tr>\n",
       "    <tr>\n",
       "      <th>15</th>\n",
       "      <td>not not not ( True and False ) is</td>\n",
       "      <td>True</td>\n",
       "    </tr>\n",
       "    <tr>\n",
       "      <th>16</th>\n",
       "      <td>not not False and not not not False is</td>\n",
       "      <td>False</td>\n",
       "    </tr>\n",
       "    <tr>\n",
       "      <th>17</th>\n",
       "      <td>( True and not True and False ) is</td>\n",
       "      <td>False</td>\n",
       "    </tr>\n",
       "    <tr>\n",
       "      <th>18</th>\n",
       "      <td>False and False and False or not False is</td>\n",
       "      <td>True</td>\n",
       "    </tr>\n",
       "    <tr>\n",
       "      <th>19</th>\n",
       "      <td>False or ( False and not False ) is</td>\n",
       "      <td>False</td>\n",
       "    </tr>\n",
       "  </tbody>\n",
       "</table>\n",
       "</div>"
      ],
      "text/plain": [
       "                                        input target\n",
       "0                not ( True ) and ( True ) is  False\n",
       "1           True and not not ( not False ) is   True\n",
       "2           not True or False or ( False ) is  False\n",
       "3          False or not ( True ) and False is  False\n",
       "4     True or not False and True and False is   True\n",
       "5      False or not not not False and True is   True\n",
       "6           not True and ( False or True ) is  False\n",
       "7           True and not False or ( True ) is   True\n",
       "8           not True or ( False and True ) is  False\n",
       "9            not True or ( True or False ) is   True\n",
       "10        False or ( False ) and not False is  False\n",
       "11   not False or True and False and False is   True\n",
       "12       not True or False or not not True is   True\n",
       "13    True and True and False and not True is  False\n",
       "14       not not True and not True or True is   True\n",
       "15          not not not ( True and False ) is   True\n",
       "16     not not False and not not not False is  False\n",
       "17         ( True and not True and False ) is  False\n",
       "18  False and False and False or not False is   True\n",
       "19        False or ( False and not False ) is  False"
      ]
     },
     "execution_count": 3,
     "metadata": {},
     "output_type": "execute_result"
    }
   ],
   "source": [
    "boolean_df.head(20)"
   ]
  },
  {
   "cell_type": "markdown",
   "metadata": {},
   "source": [
    "### Professor Testing"
   ]
  },
  {
   "cell_type": "code",
   "execution_count": 4,
   "metadata": {},
   "outputs": [],
   "source": [
    "contents = os.listdir('../../Big Bench Hard/data')"
   ]
  },
  {
   "cell_type": "code",
   "execution_count": 5,
   "metadata": {},
   "outputs": [],
   "source": [
    "sample_lst = [file for file in os.listdir('../../Big Bench Hard/data') if file.endswith(\"json\")]"
   ]
  },
  {
   "cell_type": "code",
   "execution_count": 6,
   "metadata": {},
   "outputs": [
    {
     "data": {
      "text/plain": [
       "['object_counting.json',\n",
       " 'temporal_sequences.json',\n",
       " 'tracking_shuffled_objects_five_objects.json',\n",
       " 'word_sorting.json',\n",
       " 'salient_translation_error_detection.json',\n",
       " 'penguins_in_a_table.json',\n",
       " 'snarks.json',\n",
       " 'ruin_names.json',\n",
       " 'web_of_lies.json',\n",
       " 'navigate.json',\n",
       " 'hyperbaton.json',\n",
       " 'dyck_languages.json',\n",
       " 'tracking_shuffled_objects_three_objects.json',\n",
       " 'formal_fallacies.json',\n",
       " 'tracking_shuffled_objects_seven_objects.json',\n",
       " 'causal_judgement.json',\n",
       " 'sports_understanding.json',\n",
       " 'logical_deduction_five_objects.json',\n",
       " 'movie_recommendation.json',\n",
       " '.ipynb_checkpoints',\n",
       " 'logical_deduction_three_objects.json',\n",
       " 'multistep_arithmetic_two.json',\n",
       " 'boolean_expressions.json',\n",
       " 'geometric_shapes.json',\n",
       " 'disambiguation_qa.json',\n",
       " 'logical_deduction_seven_objects.json',\n",
       " 'reasoning_about_colored_objects.json']"
      ]
     },
     "execution_count": 6,
     "metadata": {},
     "output_type": "execute_result"
    }
   ],
   "source": [
    "os.listdir('../../Big Bench Hard/data')"
   ]
  },
  {
   "cell_type": "code",
   "execution_count": 7,
   "metadata": {},
   "outputs": [],
   "source": [
    "output_file_path = 'output.json'"
   ]
  },
  {
   "cell_type": "code",
   "execution_count": null,
   "metadata": {},
   "outputs": [],
   "source": []
  }
 ],
 "metadata": {
  "kernelspec": {
   "display_name": "python_env",
   "language": "python",
   "name": "python3"
  },
  "language_info": {
   "codemirror_mode": {
    "name": "ipython",
    "version": 3
   },
   "file_extension": ".py",
   "mimetype": "text/x-python",
   "name": "python",
   "nbconvert_exporter": "python",
   "pygments_lexer": "ipython3",
   "version": "3.12.7"
  }
 },
 "nbformat": 4,
 "nbformat_minor": 2
}
