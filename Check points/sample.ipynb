{
 "cells": [
  {
   "cell_type": "code",
   "execution_count": 1,
   "metadata": {},
   "outputs": [],
   "source": [
    "import sys\n",
    "sys.path.append('../Modules/')\n",
    "from Packages import *"
   ]
  },
  {
   "cell_type": "code",
   "execution_count": 2,
   "metadata": {},
   "outputs": [
    {
     "data": {
      "text/plain": [
       "['moral_scenarios_test.csv',\n",
       " 'us_foreign_policy_test.csv',\n",
       " 'public_relations_test.csv',\n",
       " 'global_facts_test.csv',\n",
       " 'electrical_engineering_test.csv',\n",
       " 'astronomy_test.csv',\n",
       " 'business_ethics_test.csv',\n",
       " 'jurisprudence_test.csv',\n",
       " 'high_school_chemistry_test.csv',\n",
       " 'college_physics_test.csv',\n",
       " 'professional_psychology_test.csv',\n",
       " 'marketing_test.csv',\n",
       " 'management_test.csv',\n",
       " 'virology_test.csv',\n",
       " 'international_law_test.csv',\n",
       " 'high_school_macroeconomics_test.csv',\n",
       " 'prehistory_test.csv',\n",
       " 'abstract_algebra_test.csv',\n",
       " 'high_school_physics_test.csv',\n",
       " 'formal_logic_test.csv',\n",
       " 'college_medicine_test.csv',\n",
       " 'high_school_us_history_test.csv',\n",
       " 'moral_disputes_test.csv',\n",
       " 'high_school_european_history_test.csv',\n",
       " 'clinical_knowledge_test.csv',\n",
       " 'world_religions_test.csv',\n",
       " 'high_school_microeconomics_test.csv',\n",
       " 'professional_law_test.csv',\n",
       " 'human_aging_test.csv',\n",
       " 'medical_genetics_test.csv',\n",
       " 'high_school_geography_test.csv',\n",
       " 'high_school_government_and_politics_test.csv',\n",
       " 'anatomy_test.csv',\n",
       " 'sociology_test.csv',\n",
       " 'logical_fallacies_test.csv',\n",
       " 'high_school_computer_science_test.csv',\n",
       " 'miscellaneous_test.csv',\n",
       " 'high_school_world_history_test.csv',\n",
       " 'professional_medicine_test.csv',\n",
       " 'high_school_biology_test.csv',\n",
       " 'high_school_statistics_test.csv',\n",
       " 'college_chemistry_test.csv',\n",
       " 'nutrition_test.csv',\n",
       " 'econometrics_test.csv',\n",
       " 'human_sexuality_test.csv',\n",
       " 'security_studies_test.csv',\n",
       " 'philosophy_test.csv',\n",
       " 'elementary_mathematics_test.csv',\n",
       " 'college_biology_test.csv',\n",
       " 'college_computer_science_test.csv',\n",
       " 'machine_learning_test.csv',\n",
       " 'professional_accounting_test.csv',\n",
       " 'college_mathematics_test.csv',\n",
       " 'high_school_mathematics_test.csv',\n",
       " 'high_school_psychology_test.csv',\n",
       " 'conceptual_physics_test.csv',\n",
       " 'computer_security_test.csv']"
      ]
     },
     "execution_count": 2,
     "metadata": {},
     "output_type": "execute_result"
    }
   ],
   "source": [
    "os.listdir('../CCSCMW2024/MMLU/data/')"
   ]
  },
  {
   "cell_type": "code",
   "execution_count": null,
   "metadata": {},
   "outputs": [],
   "source": []
  }
 ],
 "metadata": {
  "kernelspec": {
   "display_name": "base",
   "language": "python",
   "name": "python3"
  },
  "language_info": {
   "codemirror_mode": {
    "name": "ipython",
    "version": 3
   },
   "file_extension": ".py",
   "mimetype": "text/x-python",
   "name": "python",
   "nbconvert_exporter": "python",
   "pygments_lexer": "ipython3",
   "version": "3.10.14"
  }
 },
 "nbformat": 4,
 "nbformat_minor": 2
}
