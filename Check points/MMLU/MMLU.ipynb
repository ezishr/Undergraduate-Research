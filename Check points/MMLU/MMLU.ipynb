{
 "cells": [
  {
   "cell_type": "code",
   "execution_count": 1,
   "metadata": {},
   "outputs": [],
   "source": [
    "import sys\n",
    "sys.path.append('../../Modules/')\n",
    "from Packages import *\n",
    "from CSV_processor import *\n",
    "# folder_path = ('../../CCSCMW2024/MMLU/data/')"
   ]
  },
  {
   "cell_type": "code",
   "execution_count": 9,
   "metadata": {},
   "outputs": [],
   "source": [
    "file_name = \"anatomy_test.csv\""
   ]
  },
  {
   "cell_type": "code",
   "execution_count": 35,
   "metadata": {},
   "outputs": [],
   "source": [
    "questions = []\n",
    "fieldnames = ['input', 'optionA', 'optionB', 'optionC', 'optionD', 'correctAns']\n",
    "\n",
    "with open(f'{folder_path}{file_name}', 'r', encoding='utf-8') as csv_file:\n",
    "    csv_reader = csv.DictReader(csv_file, fieldnames = fieldnames)\n",
    "\n",
    "    for i, line in enumerate(csv_reader):\n",
    "        question = dict()\n",
    "\n",
    "        prompt = line['input'] + ' \\n' + line['optionA'] + ' \\n' + line['optionB'] + ' \\n' + line['optionC'] + ' \\n' + line['optionD']\n",
    "\n",
    "        target = line['correctAns']\n",
    "\n",
    "        question['question'] = prompt\n",
    "        question['target'] = target\n",
    "\n",
    "        questions.append(question)\n",
    "\n",
    "main_df = pd.DataFrame(questions)"
   ]
  },
  {
   "cell_type": "code",
   "execution_count": null,
   "metadata": {},
   "outputs": [],
   "source": [
    "main_df"
   ]
  },
  {
   "cell_type": "code",
   "execution_count": 6,
   "metadata": {},
   "outputs": [],
   "source": [
    "obj = MMLU_CSV_Processor('MMLU','management_test.csv')"
   ]
  },
  {
   "cell_type": "code",
   "execution_count": 7,
   "metadata": {},
   "outputs": [
    {
     "data": {
      "text/html": [
       "<div>\n",
       "<style scoped>\n",
       "    .dataframe tbody tr th:only-of-type {\n",
       "        vertical-align: middle;\n",
       "    }\n",
       "\n",
       "    .dataframe tbody tr th {\n",
       "        vertical-align: top;\n",
       "    }\n",
       "\n",
       "    .dataframe thead th {\n",
       "        text-align: right;\n",
       "    }\n",
       "</style>\n",
       "<table border=\"1\" class=\"dataframe\">\n",
       "  <thead>\n",
       "    <tr style=\"text-align: right;\">\n",
       "      <th></th>\n",
       "      <th>question</th>\n",
       "      <th>target</th>\n",
       "    </tr>\n",
       "  </thead>\n",
       "  <tbody>\n",
       "    <tr>\n",
       "      <th>0</th>\n",
       "      <td>What is the term for a sub-optimal but acceptable outcome of negotiations between parties? \\nBargaining \\nSatisficing \\nAccepting \\nCompromising</td>\n",
       "      <td>B</td>\n",
       "    </tr>\n",
       "    <tr>\n",
       "      <th>1</th>\n",
       "      <td>What is the term for the 'rule of thumb' type of bias in decision making? \\nFraming bias \\nHindsight bias \\nOver-confidence bias \\nHeuristics</td>\n",
       "      <td>D</td>\n",
       "    </tr>\n",
       "    <tr>\n",
       "      <th>2</th>\n",
       "      <td>What is a normative perspective? \\nThe way things are. \\nThe way things are going to be. \\nThe way things should be. \\nThe way things were.</td>\n",
       "      <td>C</td>\n",
       "    </tr>\n",
       "    <tr>\n",
       "      <th>3</th>\n",
       "      <td>In the 'five forces model', what is the type of competitive activity that exists between organisations? \\nThe potential for entry into the industry \\nThe threat of substitute products \\nThe power of customers \\nThe level of rivalry</td>\n",
       "      <td>D</td>\n",
       "    </tr>\n",
       "    <tr>\n",
       "      <th>4</th>\n",
       "      <td>Which one of the following political leaders could not be termed a 'transformational' leader? \\nMargaret Thatcher \\nMikhail Gorbachov \\nNelson Mandela \\nBill Clinton</td>\n",
       "      <td>D</td>\n",
       "    </tr>\n",
       "    <tr>\n",
       "      <th>...</th>\n",
       "      <td>...</td>\n",
       "      <td>...</td>\n",
       "    </tr>\n",
       "    <tr>\n",
       "      <th>98</th>\n",
       "      <td>What is a whistleblower? \\nSomeone who reports illegal or unethical acts \\nSomeone who commits illegal or unethical acts \\nSomeone who benefits from illegal or unethical acts \\nSomeone who devises illegal or unethical acts</td>\n",
       "      <td>A</td>\n",
       "    </tr>\n",
       "    <tr>\n",
       "      <th>99</th>\n",
       "      <td>What is T-group training? \\nA group whose aim is transformational change \\nA group brought together to deliver training programmes \\nTeam training for the purposes of advancing technology \\nTeam building activities involving learning</td>\n",
       "      <td>D</td>\n",
       "    </tr>\n",
       "    <tr>\n",
       "      <th>100</th>\n",
       "      <td>What is a social enterprise concerned with? \\nProfit maximisation \\nMaximising market share \\nProviding public service \\nRunning a business to create social benefits</td>\n",
       "      <td>D</td>\n",
       "    </tr>\n",
       "    <tr>\n",
       "      <th>101</th>\n",
       "      <td>Which of the following is not part of Schein's model of the formation of culture? \\nShared values \\nPre-conceptions \\nShared beliefs \\nNorms</td>\n",
       "      <td>B</td>\n",
       "    </tr>\n",
       "    <tr>\n",
       "      <th>102</th>\n",
       "      <td>What is not one of the layers of cultural influence? \\nSocial \\nBusiness \\nOrganisational \\nCompany</td>\n",
       "      <td>D</td>\n",
       "    </tr>\n",
       "  </tbody>\n",
       "</table>\n",
       "<p>103 rows × 2 columns</p>\n",
       "</div>"
      ],
      "text/plain": [
       "                                                                                                                                                                                                                                      question  \\\n",
       "0                                                                                             What is the term for a sub-optimal but acceptable outcome of negotiations between parties? \\nBargaining \\nSatisficing \\nAccepting \\nCompromising   \n",
       "1                                                                                                What is the term for the 'rule of thumb' type of bias in decision making? \\nFraming bias \\nHindsight bias \\nOver-confidence bias \\nHeuristics   \n",
       "2                                                                                                  What is a normative perspective? \\nThe way things are. \\nThe way things are going to be. \\nThe way things should be. \\nThe way things were.   \n",
       "3      In the 'five forces model', what is the type of competitive activity that exists between organisations? \\nThe potential for entry into the industry \\nThe threat of substitute products \\nThe power of customers \\nThe level of rivalry   \n",
       "4                                                                        Which one of the following political leaders could not be termed a 'transformational' leader? \\nMargaret Thatcher \\nMikhail Gorbachov \\nNelson Mandela \\nBill Clinton   \n",
       "..                                                                                                                                                                                                                                         ...   \n",
       "98              What is a whistleblower? \\nSomeone who reports illegal or unethical acts \\nSomeone who commits illegal or unethical acts \\nSomeone who benefits from illegal or unethical acts \\nSomeone who devises illegal or unethical acts   \n",
       "99   What is T-group training? \\nA group whose aim is transformational change \\nA group brought together to deliver training programmes \\nTeam training for the purposes of advancing technology \\nTeam building activities involving learning   \n",
       "100                                                                      What is a social enterprise concerned with? \\nProfit maximisation \\nMaximising market share \\nProviding public service \\nRunning a business to create social benefits   \n",
       "101                                                                                               Which of the following is not part of Schein's model of the formation of culture? \\nShared values \\nPre-conceptions \\nShared beliefs \\nNorms   \n",
       "102                                                                                                                                        What is not one of the layers of cultural influence? \\nSocial \\nBusiness \\nOrganisational \\nCompany   \n",
       "\n",
       "    target  \n",
       "0        B  \n",
       "1        D  \n",
       "2        C  \n",
       "3        D  \n",
       "4        D  \n",
       "..     ...  \n",
       "98       A  \n",
       "99       D  \n",
       "100      D  \n",
       "101      B  \n",
       "102      D  \n",
       "\n",
       "[103 rows x 2 columns]"
      ]
     },
     "execution_count": 7,
     "metadata": {},
     "output_type": "execute_result"
    }
   ],
   "source": [
    "df = obj.convert_df()\n",
    "df"
   ]
  },
  {
   "cell_type": "code",
   "execution_count": null,
   "metadata": {},
   "outputs": [],
   "source": []
  }
 ],
 "metadata": {
  "kernelspec": {
   "display_name": "base",
   "language": "python",
   "name": "python3"
  },
  "language_info": {
   "codemirror_mode": {
    "name": "ipython",
    "version": 3
   },
   "file_extension": ".py",
   "mimetype": "text/x-python",
   "name": "python",
   "nbconvert_exporter": "python",
   "pygments_lexer": "ipython3",
   "version": "3.10.14"
  }
 },
 "nbformat": 4,
 "nbformat_minor": 2
}
