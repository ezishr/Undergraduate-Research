{
 "cells": [
  {
   "cell_type": "markdown",
   "metadata": {},
   "source": [
    "## Setup"
   ]
  },
  {
   "cell_type": "code",
   "execution_count": 2,
   "metadata": {},
   "outputs": [],
   "source": [
    "import sys\n",
    "sys.path.append('../../Modules/')\n",
    "sys.path.append('../../Modules/Processors from Prof')\n",
    "from Packages import *\n",
    "from My_Json_processor import *\n",
    "# from My_Utilities_processor import *\n",
    "\n",
    "# Import processors from Prof\n",
    "from ipynb.fs.full.Utilities import *\n",
    "from ipynb.fs.full.Json_Processor import *\n",
    "from ipynb.fs.full.CSV_Processor import *"
   ]
  },
  {
   "cell_type": "markdown",
   "metadata": {},
   "source": [
    "## GROQ API - Testing"
   ]
  },
  {
   "cell_type": "code",
   "execution_count": 6,
   "metadata": {},
   "outputs": [],
   "source": [
    "import os\n",
    "from groq import Groq"
   ]
  },
  {
   "cell_type": "code",
   "execution_count": null,
   "metadata": {},
   "outputs": [],
   "source": [
    "print(os.environ['GROQ_API_KEY'])"
   ]
  },
  {
   "cell_type": "code",
   "execution_count": 7,
   "metadata": {},
   "outputs": [],
   "source": [
    "client = Groq(\n",
    "    api_key=os.environ['GROQ_API_KEY'],\n",
    ")"
   ]
  },
  {
   "cell_type": "code",
   "execution_count": null,
   "metadata": {},
   "outputs": [],
   "source": [
    "chat_completion = client.chat.completions.create(\n",
    "    messages=[\n",
    "        {\n",
    "            \"role\":\"user\",\n",
    "            \"content\": main_df.iloc[20]['full_input']\n",
    "        },\n",
    "        {\n",
    "            'role': 'system',\n",
    "            'content': 'You only answer A, B, C, or D from the multiple choices.'\n",
    "        }\n",
    "    ],\n",
    "    model = \"llama3-8b-8192\"\n",
    ")\n",
    "\n",
    "print(chat_completion.choices[0].message.content)"
   ]
  },
  {
   "cell_type": "markdown",
   "metadata": {},
   "source": [
    "## Functions"
   ]
  },
  {
   "cell_type": "markdown",
   "metadata": {},
   "source": [
    "### Main"
   ]
  },
  {
   "cell_type": "code",
   "execution_count": 3,
   "metadata": {},
   "outputs": [],
   "source": [
    "\"\"\"\n",
    "GEMINI\n",
    "\n",
    "The function is to generate Gemini answers for the given data.\n",
    "\n",
    "@params: data(initial dataframe), system_message(message for Gemini system)\n",
    "@return: sample(dataframe with gemini_output column)\n",
    "\"\"\"\n",
    "\n",
    "def gemini_generator(data, system_message):\n",
    "\n",
    "    import time\n",
    "    total_requests = 0\n",
    "    successful_requests = 0\n",
    "\n",
    "\n",
    "    model=genai.GenerativeModel(\n",
    "    model_name=\"gemini-1.5-flash\",\n",
    "    system_instruction=system_message,\n",
    "    )\n",
    "\n",
    "    sample = data.copy()\n",
    "    sample['gemini_output'] = None\n",
    "\n",
    "    for i in range(len(sample)):\n",
    "        success = False\n",
    "        retries = 3\n",
    "\n",
    "        while not success and retries > 0:\n",
    "            try:\n",
    "                total_requests += 1\n",
    "\n",
    "                # Make API request\n",
    "                response = model.generate_content(sample['input'][i])\n",
    "                # print(response.text)\n",
    "                sample.loc[i, 'gemini_output'] = response.text.strip()\n",
    "                success = True\n",
    "                successful_requests += 1\n",
    "                time.sleep(5)\n",
    "\n",
    "            except Exception as e:\n",
    "                # print(f\"Error: {e}\")\n",
    "                retries -= 1\n",
    "                time.sleep(5)\n",
    "                total_requests += 1\n",
    "\n",
    "    print(f\"Total requests made: {total_requests}\")\n",
    "    print(f\"Successful requests: {successful_requests}\")\n",
    "\n",
    "    return sample"
   ]
  },
  {
   "cell_type": "code",
   "execution_count": 4,
   "metadata": {},
   "outputs": [],
   "source": [
    "\"\"\"\n",
    "The function is to export the dataframe to a csv file.\n",
    "\n",
    "@params: folder_name(name of the folder), df(dataframe)\n",
    "@return: True if the dataframe is exported successfully, False otherwise\n",
    "\"\"\"\n",
    "\n",
    "def df_to_csv(folder_name, df, file_name, output_col):\n",
    "    base_path = r'/Users/ezishr/Library/CloudStorage/OneDrive-UniversityofCincinnati/Undergraduate Research/Check points'\n",
    "    if (df[output_col].isnull().sum() == 0) or (df[output_col].isnull().sum() == 0):\n",
    "        file_path = os.path.join(base_path, folder_name, f'{file_name}.csv')\n",
    "        os.makedirs(os.path.dirname(file_path), exist_ok=True)\n",
    "        df.to_csv(file_path, index=False)\n",
    "        print(f\"DataFrame exported successfully to {file_path}!\")\n",
    "    else:\n",
    "        print(\"Export failed: DataFrame contains null values in 'gemini_output'.\")\n",
    "        return False"
   ]
  },
  {
   "cell_type": "markdown",
   "metadata": {},
   "source": [
    "## My Testing - ARC-Challenge-Test.jsonl"
   ]
  },
  {
   "cell_type": "markdown",
   "metadata": {},
   "source": [
    "### Get Dataset"
   ]
  },
  {
   "cell_type": "code",
   "execution_count": 5,
   "metadata": {},
   "outputs": [],
   "source": [
    "arc_challenge = ARC_Challenge_Processor_my('ARC-Challenge','ARC-Challenge-Test.jsonl').convert_df()"
   ]
  },
  {
   "cell_type": "code",
   "execution_count": 6,
   "metadata": {},
   "outputs": [],
   "source": [
    "arc_challenge['full_input'] = arc_challenge['input'] + \" \" + arc_challenge['choices']\n",
    "arc_challenge.drop(columns=['input','choices'],inplace=True)\n",
    "arc_challenge.rename(columns={'full_input':'input'},inplace=True)"
   ]
  },
  {
   "cell_type": "code",
   "execution_count": null,
   "metadata": {},
   "outputs": [],
   "source": [
    "arc_challenge.head()"
   ]
  },
  {
   "cell_type": "code",
   "execution_count": null,
   "metadata": {},
   "outputs": [],
   "source": [
    "arc_challenge.info()"
   ]
  },
  {
   "cell_type": "code",
   "execution_count": null,
   "metadata": {},
   "outputs": [],
   "source": [
    "arc_challenge[arc_challenge['target'].isin(['2', '4', '3', '1'])]"
   ]
  },
  {
   "cell_type": "markdown",
   "metadata": {},
   "source": [
    "### GEMINI Applied"
   ]
  },
  {
   "cell_type": "code",
   "execution_count": null,
   "metadata": {},
   "outputs": [],
   "source": [
    "gemini_arc_challenge = gemini_arc_challenge = gemini_generator(arc_challenge, \"You only answer A, B, C, D, or 1,2,3,4 from the provided multiple choices.\")"
   ]
  },
  {
   "cell_type": "code",
   "execution_count": null,
   "metadata": {},
   "outputs": [],
   "source": [
    "gemini_arc_challenge.info()"
   ]
  },
  {
   "cell_type": "code",
   "execution_count": null,
   "metadata": {},
   "outputs": [],
   "source": [
    "gemini_arc_challenge"
   ]
  },
  {
   "cell_type": "code",
   "execution_count": null,
   "metadata": {},
   "outputs": [],
   "source": [
    "gemini_arc_challenge.info()"
   ]
  },
  {
   "cell_type": "code",
   "execution_count": null,
   "metadata": {},
   "outputs": [],
   "source": [
    "gemini_arc_challenge[gemini_arc_challenge['gemini_output'].isnull()]"
   ]
  },
  {
   "cell_type": "code",
   "execution_count": 14,
   "metadata": {},
   "outputs": [],
   "source": [
    "gemini_arc_challenge.drop(index = 1171, inplace = True)"
   ]
  },
  {
   "cell_type": "code",
   "execution_count": null,
   "metadata": {},
   "outputs": [],
   "source": [
    "gemini_arc_challenge.info()"
   ]
  },
  {
   "cell_type": "code",
   "execution_count": null,
   "metadata": {},
   "outputs": [],
   "source": [
    "df_to_csv('ARC Challenge', gemini_arc_challenge, 'gemini_arc_challenge', 'gemini_output')"
   ]
  },
  {
   "cell_type": "markdown",
   "metadata": {},
   "source": [
    "## My Testing - ARC-Challenge-Dev.jsonl"
   ]
  },
  {
   "cell_type": "markdown",
   "metadata": {},
   "source": [
    "### Get Dataset"
   ]
  },
  {
   "cell_type": "code",
   "execution_count": 23,
   "metadata": {},
   "outputs": [],
   "source": [
    "arc_dev = ARC_Challenge_Processor_my('ARC-Challenge','ARC-Challenge-Dev.jsonl').convert_df()"
   ]
  },
  {
   "cell_type": "code",
   "execution_count": null,
   "metadata": {},
   "outputs": [],
   "source": [
    "arc_dev.info()\n",
    "arc_dev.head()"
   ]
  },
  {
   "cell_type": "code",
   "execution_count": 25,
   "metadata": {},
   "outputs": [],
   "source": [
    "arc_dev['full_input'] = arc_dev['input'] + \" \" + arc_dev['choices']\n",
    "arc_dev.drop(columns=['input','choices'],inplace=True)\n",
    "arc_dev.rename(columns={'full_input':'input'},inplace=True)"
   ]
  },
  {
   "cell_type": "markdown",
   "metadata": {},
   "source": [
    "### GEMINI Applied"
   ]
  },
  {
   "cell_type": "code",
   "execution_count": null,
   "metadata": {},
   "outputs": [],
   "source": [
    "gemini_arc_dev = gemini_generator(arc_dev, \"You only answer A, B, C, D, or 1,2,3,4 from the provided multiple choices.\")\n",
    "\n",
    "gemini_arc_dev.info()"
   ]
  },
  {
   "cell_type": "code",
   "execution_count": 38,
   "metadata": {},
   "outputs": [],
   "source": [
    "gemini_arc_dev.drop(index=298, inplace=True)"
   ]
  },
  {
   "cell_type": "code",
   "execution_count": null,
   "metadata": {},
   "outputs": [],
   "source": [
    "df_to_csv('ARC-Challenge', gemini_arc_dev, 'gemini_arc_dev', 'gemini_output')"
   ]
  },
  {
   "cell_type": "markdown",
   "metadata": {},
   "source": [
    "## My Testing - ARC-Challenge-Train.jsonl"
   ]
  },
  {
   "cell_type": "markdown",
   "metadata": {},
   "source": [
    "### Get Dataset"
   ]
  },
  {
   "cell_type": "code",
   "execution_count": 5,
   "metadata": {},
   "outputs": [],
   "source": [
    "arc_train = ARC_Challenge_Processor_my('ARC-Challenge','ARC-Challenge-Train.jsonl').convert_df()"
   ]
  },
  {
   "cell_type": "code",
   "execution_count": 6,
   "metadata": {},
   "outputs": [],
   "source": [
    "arc_train.drop(index = 1118, inplace = True)"
   ]
  },
  {
   "cell_type": "code",
   "execution_count": 7,
   "metadata": {},
   "outputs": [],
   "source": [
    "arc_train['full_input'] = arc_train['input'] + \" \" + arc_train['choices']\n",
    "arc_train.drop(columns=['input','choices'],inplace=True)\n",
    "arc_train.rename(columns={'full_input':'input'},inplace=True)"
   ]
  },
  {
   "cell_type": "markdown",
   "metadata": {},
   "source": [
    "### GEMINI Applied"
   ]
  },
  {
   "cell_type": "code",
   "execution_count": 8,
   "metadata": {},
   "outputs": [
    {
     "data": {
      "text/plain": [
       "array(['A', 'B', 'D', 'C', '2', '4', '1', '3'], dtype=object)"
      ]
     },
     "execution_count": 8,
     "metadata": {},
     "output_type": "execute_result"
    }
   ],
   "source": [
    "arc_train['target'].unique()"
   ]
  },
  {
   "cell_type": "code",
   "execution_count": null,
   "metadata": {},
   "outputs": [],
   "source": [
    "gemini_arc_train = gemini_generator(arc_train, \"You only answer A, B, C, D, or 1,2,3,4 from the provided multiple choices.\")\n",
    "\n",
    "df_to_csv('ARC-Challenge', gemini_arc_train, 'gemini_arc_train', 'gemini_output')\n",
    "\n",
    "# NOT DONE YET"
   ]
  },
  {
   "cell_type": "code",
   "execution_count": 10,
   "metadata": {},
   "outputs": [
    {
     "data": {
      "text/html": [
       "<div>\n",
       "<style scoped>\n",
       "    .dataframe tbody tr th:only-of-type {\n",
       "        vertical-align: middle;\n",
       "    }\n",
       "\n",
       "    .dataframe tbody tr th {\n",
       "        vertical-align: top;\n",
       "    }\n",
       "\n",
       "    .dataframe thead th {\n",
       "        text-align: right;\n",
       "    }\n",
       "</style>\n",
       "<table border=\"1\" class=\"dataframe\">\n",
       "  <thead>\n",
       "    <tr style=\"text-align: right;\">\n",
       "      <th></th>\n",
       "      <th>target</th>\n",
       "      <th>input</th>\n",
       "    </tr>\n",
       "  </thead>\n",
       "  <tbody>\n",
       "    <tr>\n",
       "      <th>0</th>\n",
       "      <td>A</td>\n",
       "      <td>George wants to warm his hands quickly by rubbing them. Which skin surface will produce the most heat? A: dry palms\\nB: wet palms\\nC: palms covered with oil\\nD: palms covered with lotion\\n</td>\n",
       "    </tr>\n",
       "    <tr>\n",
       "      <th>1</th>\n",
       "      <td>B</td>\n",
       "      <td>Which of the following statements best explains why magnets usually stick to a refrigerator door? A: The refrigerator door is smooth.\\nB: The refrigerator door contains iron.\\nC: The refrigerator door is a good conductor.\\nD: The refrigerator door has electric wires in it.\\n</td>\n",
       "    </tr>\n",
       "    <tr>\n",
       "      <th>2</th>\n",
       "      <td>B</td>\n",
       "      <td>A fold observed in layers of sedimentary rock most likely resulted from the A: cooling of flowing magma.\\nB: converging of crustal plates.\\nC: deposition of river sediments.\\nD: solution of carbonate minerals.\\n</td>\n",
       "    </tr>\n",
       "    <tr>\n",
       "      <th>3</th>\n",
       "      <td>D</td>\n",
       "      <td>Which of these do scientists offer as the most recent explanation as to why many plants and animals died out at the end of the Mesozoic era? A: worldwide disease\\nB: global mountain building\\nC: rise of mammals that preyed upon plants and animals\\nD: impact of an asteroid created dust that blocked the sunlight\\n</td>\n",
       "    </tr>\n",
       "    <tr>\n",
       "      <th>4</th>\n",
       "      <td>B</td>\n",
       "      <td>A boat is acted on by a river current flowing north and by wind blowing on its sails. The boat travels northeast. In which direction is the wind most likely applying force to the sails of the boat? A: west\\nB: east\\nC: north\\nD: south\\n</td>\n",
       "    </tr>\n",
       "  </tbody>\n",
       "</table>\n",
       "</div>"
      ],
      "text/plain": [
       "  target  \\\n",
       "0      A   \n",
       "1      B   \n",
       "2      B   \n",
       "3      D   \n",
       "4      B   \n",
       "\n",
       "                                                                                                                                                                                                                                                                                                                       input  \n",
       "0                                                                                                                               George wants to warm his hands quickly by rubbing them. Which skin surface will produce the most heat? A: dry palms\\nB: wet palms\\nC: palms covered with oil\\nD: palms covered with lotion\\n  \n",
       "1                                        Which of the following statements best explains why magnets usually stick to a refrigerator door? A: The refrigerator door is smooth.\\nB: The refrigerator door contains iron.\\nC: The refrigerator door is a good conductor.\\nD: The refrigerator door has electric wires in it.\\n  \n",
       "2                                                                                                        A fold observed in layers of sedimentary rock most likely resulted from the A: cooling of flowing magma.\\nB: converging of crustal plates.\\nC: deposition of river sediments.\\nD: solution of carbonate minerals.\\n  \n",
       "3  Which of these do scientists offer as the most recent explanation as to why many plants and animals died out at the end of the Mesozoic era? A: worldwide disease\\nB: global mountain building\\nC: rise of mammals that preyed upon plants and animals\\nD: impact of an asteroid created dust that blocked the sunlight\\n  \n",
       "4                                                                               A boat is acted on by a river current flowing north and by wind blowing on its sails. The boat travels northeast. In which direction is the wind most likely applying force to the sails of the boat? A: west\\nB: east\\nC: north\\nD: south\\n  "
      ]
     },
     "execution_count": 10,
     "metadata": {},
     "output_type": "execute_result"
    }
   ],
   "source": [
    "arc_train.head()"
   ]
  },
  {
   "cell_type": "code",
   "execution_count": 11,
   "metadata": {},
   "outputs": [
    {
     "name": "stdout",
     "output_type": "stream",
     "text": [
      "<class 'pandas.core.frame.DataFrame'>\n",
      "RangeIndex: 1118 entries, 0 to 1117\n",
      "Data columns (total 2 columns):\n",
      " #   Column  Non-Null Count  Dtype \n",
      "---  ------  --------------  ----- \n",
      " 0   target  1118 non-null   object\n",
      " 1   input   1118 non-null   object\n",
      "dtypes: object(2)\n",
      "memory usage: 17.6+ KB\n"
     ]
    }
   ],
   "source": [
    "arc_train.info()"
   ]
  },
  {
   "cell_type": "code",
   "execution_count": 13,
   "metadata": {},
   "outputs": [],
   "source": [
    "top250 = arc_train.loc[0:250,].copy()"
   ]
  },
  {
   "cell_type": "code",
   "execution_count": 14,
   "metadata": {},
   "outputs": [
    {
     "name": "stdout",
     "output_type": "stream",
     "text": [
      "<class 'pandas.core.frame.DataFrame'>\n",
      "RangeIndex: 251 entries, 0 to 250\n",
      "Data columns (total 2 columns):\n",
      " #   Column  Non-Null Count  Dtype \n",
      "---  ------  --------------  ----- \n",
      " 0   target  251 non-null    object\n",
      " 1   input   251 non-null    object\n",
      "dtypes: object(2)\n",
      "memory usage: 4.1+ KB\n"
     ]
    }
   ],
   "source": [
    "top250.info()"
   ]
  },
  {
   "cell_type": "code",
   "execution_count": 15,
   "metadata": {},
   "outputs": [
    {
     "name": "stdout",
     "output_type": "stream",
     "text": [
      "Total requests made: 264\n",
      "Successful requests: 250\n"
     ]
    }
   ],
   "source": [
    "gemini_arc_train_top250 = gemini_generator(top250, \"You only answer A, B, C, D, or 1,2,3,4 from the provided multiple choices.\")"
   ]
  },
  {
   "cell_type": "code",
   "execution_count": 16,
   "metadata": {},
   "outputs": [
    {
     "name": "stdout",
     "output_type": "stream",
     "text": [
      "<class 'pandas.core.frame.DataFrame'>\n",
      "RangeIndex: 251 entries, 0 to 250\n",
      "Data columns (total 3 columns):\n",
      " #   Column         Non-Null Count  Dtype \n",
      "---  ------         --------------  ----- \n",
      " 0   target         251 non-null    object\n",
      " 1   input          251 non-null    object\n",
      " 2   gemini_output  250 non-null    object\n",
      "dtypes: object(3)\n",
      "memory usage: 6.0+ KB\n"
     ]
    }
   ],
   "source": [
    "gemini_arc_train_top250.info()"
   ]
  },
  {
   "cell_type": "code",
   "execution_count": 18,
   "metadata": {},
   "outputs": [
    {
     "data": {
      "text/html": [
       "<div>\n",
       "<style scoped>\n",
       "    .dataframe tbody tr th:only-of-type {\n",
       "        vertical-align: middle;\n",
       "    }\n",
       "\n",
       "    .dataframe tbody tr th {\n",
       "        vertical-align: top;\n",
       "    }\n",
       "\n",
       "    .dataframe thead th {\n",
       "        text-align: right;\n",
       "    }\n",
       "</style>\n",
       "<table border=\"1\" class=\"dataframe\">\n",
       "  <thead>\n",
       "    <tr style=\"text-align: right;\">\n",
       "      <th></th>\n",
       "      <th>target</th>\n",
       "      <th>input</th>\n",
       "      <th>gemini_output</th>\n",
       "    </tr>\n",
       "  </thead>\n",
       "  <tbody>\n",
       "    <tr>\n",
       "      <th>191</th>\n",
       "      <td>B</td>\n",
       "      <td>When people exercise, they often feel thirsty and begin to sweat. It is important for people to feel thirsty when exercising because it makes them realize that they should A: take a break\\nB: consume liquids\\nC: slow their breathing\\nD: stop to eat something\\n</td>\n",
       "      <td>None</td>\n",
       "    </tr>\n",
       "  </tbody>\n",
       "</table>\n",
       "</div>"
      ],
      "text/plain": [
       "    target  \\\n",
       "191      B   \n",
       "\n",
       "                                                                                                                                                                                                                                                                    input  \\\n",
       "191  When people exercise, they often feel thirsty and begin to sweat. It is important for people to feel thirsty when exercising because it makes them realize that they should A: take a break\\nB: consume liquids\\nC: slow their breathing\\nD: stop to eat something\\n   \n",
       "\n",
       "    gemini_output  \n",
       "191          None  "
      ]
     },
     "execution_count": 18,
     "metadata": {},
     "output_type": "execute_result"
    }
   ],
   "source": [
    "gemini_arc_train_top250[gemini_arc_train_top250['gemini_output'].isnull()]"
   ]
  },
  {
   "cell_type": "code",
   "execution_count": 19,
   "metadata": {},
   "outputs": [],
   "source": [
    "model=genai.GenerativeModel(\n",
    "    model_name=\"gemini-1.5-flash\",\n",
    "    system_instruction=\"You only answer A, B, C, D, or 1,2,3,4 from the provided multiple choices.\",\n",
    ")\n",
    "\n",
    "response = model.generate_content(gemini_arc_train_top250['input'][191])"
   ]
  },
  {
   "cell_type": "code",
   "execution_count": 21,
   "metadata": {},
   "outputs": [],
   "source": [
    "gemini_arc_train_top250.loc[191, 'gemini_output'] = response.text.strip()"
   ]
  },
  {
   "cell_type": "code",
   "execution_count": 22,
   "metadata": {},
   "outputs": [
    {
     "name": "stdout",
     "output_type": "stream",
     "text": [
      "DataFrame exported successfully to /Users/ezishr/Library/CloudStorage/OneDrive-UniversityofCincinnati/Undergraduate Research/Check points/ARC-Challenge/gemini_arc_train_top250.csv!\n"
     ]
    }
   ],
   "source": [
    "df_to_csv(\"ARC-Challenge\", gemini_arc_train_top250, \"gemini_arc_train_top250\", \"gemini_output\")"
   ]
  },
  {
   "cell_type": "code",
   "execution_count": 26,
   "metadata": {},
   "outputs": [],
   "source": [
    "top251_350 = arc_train.loc[251:350,].copy()"
   ]
  },
  {
   "cell_type": "code",
   "execution_count": 27,
   "metadata": {},
   "outputs": [
    {
     "name": "stdout",
     "output_type": "stream",
     "text": [
      "Total requests made: 600\n",
      "Successful requests: 0\n"
     ]
    }
   ],
   "source": [
    "gemini_arc_train_top251_350 = gemini_generator(top251_350, \"You only answer A, B, C, D, or 1,2,3,4 from the provided multiple choices.\")\n",
    "\n",
    "## NOT DONE"
   ]
  }
 ],
 "metadata": {
  "kernelspec": {
   "display_name": "python_env",
   "language": "python",
   "name": "python3"
  },
  "language_info": {
   "codemirror_mode": {
    "name": "ipython",
    "version": 3
   },
   "file_extension": ".py",
   "mimetype": "text/x-python",
   "name": "python",
   "nbconvert_exporter": "python",
   "pygments_lexer": "ipython3",
   "version": "3.12.7"
  }
 },
 "nbformat": 4,
 "nbformat_minor": 2
}
