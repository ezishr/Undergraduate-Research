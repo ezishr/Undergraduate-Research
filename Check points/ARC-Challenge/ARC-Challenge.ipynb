{
 "cells": [
  {
   "cell_type": "markdown",
   "metadata": {},
   "source": [
    "## Setup"
   ]
  },
  {
   "cell_type": "code",
   "execution_count": 1,
   "metadata": {},
   "outputs": [],
   "source": [
    "import sys\n",
    "sys.path.append('../../Modules/')\n",
    "sys.path.append('../../Modules/Processors from Prof')\n",
    "from Packages import *\n",
    "from My_Json_processor import *\n",
    "\n",
    "# Import processors from Prof\n",
    "from ipynb.fs.full.Utilities import *\n",
    "from ipynb.fs.full.Json_Processor import *\n",
    "from ipynb.fs.full.CSV_Processor import *"
   ]
  },
  {
   "cell_type": "code",
   "execution_count": 2,
   "metadata": {},
   "outputs": [],
   "source": [
    "main_df = ARC_Challenge_Processor_my('ARC-Challenge','ARC-Challenge-Test.jsonl')\n",
    "main_df = main_df.convert_df()"
   ]
  },
  {
   "cell_type": "code",
   "execution_count": 3,
   "metadata": {},
   "outputs": [],
   "source": [
    "main_df['full_input'] = main_df['input'] + \" \" + main_df['choices']"
   ]
  },
  {
   "cell_type": "code",
   "execution_count": 4,
   "metadata": {},
   "outputs": [
    {
     "name": "stdout",
     "output_type": "stream",
     "text": [
      "An astronomer observes that a planet rotates faster after a meteorite impact. Which is the most likely effect of this increase in rotation? A: Planetary density will decrease.\n",
      "B: Planetary years will become longer.\n",
      "C: Planetary days will become shorter.\n",
      "D: Planetary gravity will become stronger.\n",
      "\n"
     ]
    }
   ],
   "source": [
    "print(main_df.iloc[0]['full_input'])"
   ]
  },
  {
   "cell_type": "markdown",
   "metadata": {},
   "source": [
    "## GROQ API"
   ]
  },
  {
   "cell_type": "code",
   "execution_count": 8,
   "metadata": {},
   "outputs": [],
   "source": [
    "import os\n",
    "from groq import Groq"
   ]
  },
  {
   "cell_type": "code",
   "execution_count": 9,
   "metadata": {},
   "outputs": [],
   "source": [
    "client = Groq(\n",
    "    api_key=os.environ['GROQ_API_KEY'],\n",
    ")"
   ]
  },
  {
   "cell_type": "code",
   "execution_count": 10,
   "metadata": {},
   "outputs": [
    {
     "name": "stdout",
     "output_type": "stream",
     "text": [
      "B: breaking down wastes\n"
     ]
    }
   ],
   "source": [
    "chat_completion = client.chat.completions.create(\n",
    "    messages=[\n",
    "        {\n",
    "            \"role\":\"user\",\n",
    "            \"content\": main_df.iloc[20]['full_input']\n",
    "        },\n",
    "        {\n",
    "            'role': 'system',\n",
    "            'content': 'You only answer A, B, C, or D from the multiple choices.'\n",
    "        }\n",
    "    ],\n",
    "    model = \"llama3-8b-8192\"\n",
    ")\n",
    "\n",
    "print(chat_completion.choices[0].message.content)"
   ]
  },
  {
   "cell_type": "code",
   "execution_count": 21,
   "metadata": {},
   "outputs": [
    {
     "data": {
      "text/html": [
       "<div>\n",
       "<style scoped>\n",
       "    .dataframe tbody tr th:only-of-type {\n",
       "        vertical-align: middle;\n",
       "    }\n",
       "\n",
       "    .dataframe tbody tr th {\n",
       "        vertical-align: top;\n",
       "    }\n",
       "\n",
       "    .dataframe thead th {\n",
       "        text-align: right;\n",
       "    }\n",
       "</style>\n",
       "<table border=\"1\" class=\"dataframe\">\n",
       "  <thead>\n",
       "    <tr style=\"text-align: right;\">\n",
       "      <th></th>\n",
       "      <th>target</th>\n",
       "      <th>input</th>\n",
       "      <th>choices</th>\n",
       "      <th>full_input</th>\n",
       "    </tr>\n",
       "  </thead>\n",
       "  <tbody>\n",
       "    <tr>\n",
       "      <th>0</th>\n",
       "      <td>C</td>\n",
       "      <td>An astronomer observes that a planet rotates faster after a meteorite impact. Which is the most likely effect of this increase in rotation?</td>\n",
       "      <td>A: Planetary density will decrease.\\nB: Planetary years will become longer.\\nC: Planetary days will become shorter.\\nD: Planetary gravity will become stronger.\\n</td>\n",
       "      <td>An astronomer observes that a planet rotates faster after a meteorite impact. Which is the most likely effect of this increase in rotation? A: Planetary density will decrease.\\nB: Planetary years will become longer.\\nC: Planetary days will become shorter.\\nD: Planetary gravity will become stronger.\\n</td>\n",
       "    </tr>\n",
       "    <tr>\n",
       "      <th>1</th>\n",
       "      <td>B</td>\n",
       "      <td>A group of engineers wanted to know how different building designs would respond during an earthquake. They made several models of buildings and tested each for its ability to withstand earthquake conditions. Which will most likely result from testing different building designs?</td>\n",
       "      <td>A: buildings will be built faster\\nB: buildings will be made safer\\nC: building designs will look nicer\\nD: building materials will be cheaper\\n</td>\n",
       "      <td>A group of engineers wanted to know how different building designs would respond during an earthquake. They made several models of buildings and tested each for its ability to withstand earthquake conditions. Which will most likely result from testing different building designs? A: buildings will be built faster\\nB: buildings will be made safer\\nC: building designs will look nicer\\nD: building materials will be cheaper\\n</td>\n",
       "    </tr>\n",
       "    <tr>\n",
       "      <th>2</th>\n",
       "      <td>C</td>\n",
       "      <td>The end result in the process of photosynthesis is the production of sugar and oxygen. Which step signals the beginning of photosynthesis?</td>\n",
       "      <td>A: Chemical energy is absorbed through the roots.\\nB: Light energy is converted to chemical energy.\\nC: Chlorophyll in the leaf captures light energy.\\nD: Sunlight is converted into chlorophyll.\\n</td>\n",
       "      <td>The end result in the process of photosynthesis is the production of sugar and oxygen. Which step signals the beginning of photosynthesis? A: Chemical energy is absorbed through the roots.\\nB: Light energy is converted to chemical energy.\\nC: Chlorophyll in the leaf captures light energy.\\nD: Sunlight is converted into chlorophyll.\\n</td>\n",
       "    </tr>\n",
       "    <tr>\n",
       "      <th>3</th>\n",
       "      <td>D</td>\n",
       "      <td>A physicist wants to determine the speed a car must reach to jump over a ramp. The physicist conducts three trials. In trials two and three, the speed of the car is increased by 20 miles per hour. What is the physicist investigating when he changes the speed?</td>\n",
       "      <td>A: the control\\nB: the hypothesis statement\\nC: the dependent (responding) variable\\nD: the independent (manipulated) variable\\n</td>\n",
       "      <td>A physicist wants to determine the speed a car must reach to jump over a ramp. The physicist conducts three trials. In trials two and three, the speed of the car is increased by 20 miles per hour. What is the physicist investigating when he changes the speed? A: the control\\nB: the hypothesis statement\\nC: the dependent (responding) variable\\nD: the independent (manipulated) variable\\n</td>\n",
       "    </tr>\n",
       "    <tr>\n",
       "      <th>4</th>\n",
       "      <td>D</td>\n",
       "      <td>An astronaut drops a 1.0 kg object and a 5.0 kg object on the Moon. Both objects fall a total distance of 2.0 m vertically. Which of the following best describes the objects after they have fallen a distance of 1.0 m?</td>\n",
       "      <td>A: They have each lost kinetic energy.\\nB: They have each gained the same amount of potential energy.\\nC: They have each lost the same amount of potential energy.\\nD: They have each gained one-half of their maximum kinetic energy.\\n</td>\n",
       "      <td>An astronaut drops a 1.0 kg object and a 5.0 kg object on the Moon. Both objects fall a total distance of 2.0 m vertically. Which of the following best describes the objects after they have fallen a distance of 1.0 m? A: They have each lost kinetic energy.\\nB: They have each gained the same amount of potential energy.\\nC: They have each lost the same amount of potential energy.\\nD: They have each gained one-half of their maximum kinetic energy.\\n</td>\n",
       "    </tr>\n",
       "    <tr>\n",
       "      <th>...</th>\n",
       "      <td>...</td>\n",
       "      <td>...</td>\n",
       "      <td>...</td>\n",
       "      <td>...</td>\n",
       "    </tr>\n",
       "    <tr>\n",
       "      <th>17</th>\n",
       "      <td>B</td>\n",
       "      <td>Molly was making iced tea by putting tea bags in boiling water. She needed to cool the hot tea quickly, so she poured it into a pitcher full of ice. Which best describes the flow of thermal energy?</td>\n",
       "      <td>A: from the ice to the tea\\nB: from the tea to the ice\\nC: from the pitcher to the tea\\nD: from the ice to the pitcher\\n</td>\n",
       "      <td>Molly was making iced tea by putting tea bags in boiling water. She needed to cool the hot tea quickly, so she poured it into a pitcher full of ice. Which best describes the flow of thermal energy? A: from the ice to the tea\\nB: from the tea to the ice\\nC: from the pitcher to the tea\\nD: from the ice to the pitcher\\n</td>\n",
       "    </tr>\n",
       "    <tr>\n",
       "      <th>18</th>\n",
       "      <td>A</td>\n",
       "      <td>Logging companies cut trees in a forest and send the trees to lumber mills far from the forest. The mills make boards that are used for construction. Some logging companies do not plant tree seedlings after cutting trees. Not planting tree seedlings might affect people who need boards in the future because</td>\n",
       "      <td>A: the price of boards will increase\\nB: the price of boards will decrease\\nC: there will be more boards available\\nD: there will be more trees for logging\\n</td>\n",
       "      <td>Logging companies cut trees in a forest and send the trees to lumber mills far from the forest. The mills make boards that are used for construction. Some logging companies do not plant tree seedlings after cutting trees. Not planting tree seedlings might affect people who need boards in the future because A: the price of boards will increase\\nB: the price of boards will decrease\\nC: there will be more boards available\\nD: there will be more trees for logging\\n</td>\n",
       "    </tr>\n",
       "    <tr>\n",
       "      <th>19</th>\n",
       "      <td>C</td>\n",
       "      <td>It was once thought that living organisms could come from non-living matter. For example, people believed that flies would develop from rotting meat. This idea was later disproved primarily because of</td>\n",
       "      <td>A: the discovery of the atom.\\nB: better surgical techniques.\\nC: continued experimentation.\\nD: the invention of the microscope.\\n</td>\n",
       "      <td>It was once thought that living organisms could come from non-living matter. For example, people believed that flies would develop from rotting meat. This idea was later disproved primarily because of A: the discovery of the atom.\\nB: better surgical techniques.\\nC: continued experimentation.\\nD: the invention of the microscope.\\n</td>\n",
       "    </tr>\n",
       "    <tr>\n",
       "      <th>20</th>\n",
       "      <td>B</td>\n",
       "      <td>Cells take in food for energy. The part of the cell that aids in digestion of the food is the lysosome. What is the main role of lysosomes in the process of food digestion?</td>\n",
       "      <td>A: building proteins\\nB: breaking down wastes\\nC: controlling the activities of the cell\\nD: converting energy from one form into another\\n</td>\n",
       "      <td>Cells take in food for energy. The part of the cell that aids in digestion of the food is the lysosome. What is the main role of lysosomes in the process of food digestion? A: building proteins\\nB: breaking down wastes\\nC: controlling the activities of the cell\\nD: converting energy from one form into another\\n</td>\n",
       "    </tr>\n",
       "    <tr>\n",
       "      <th>21</th>\n",
       "      <td>B</td>\n",
       "      <td>When an electric current is passed through water (H_{2}O) using a specific apparatus, hydrogen (H_{2}) and oxygen (O_{2}) gases form. How can this reaction be shown in a chemical equation?</td>\n",
       "      <td>A: H_{2}O -&gt; H + O + H\\nB: 2H_{2}O(l) -&gt; 2H_{2}(g) + O_{2}(g)\\nC: H:O:H -&gt; H_{2}O\\nD: H_{2}O(l) -&gt; 2H(g) + O(g)\\n</td>\n",
       "      <td>When an electric current is passed through water (H_{2}O) using a specific apparatus, hydrogen (H_{2}) and oxygen (O_{2}) gases form. How can this reaction be shown in a chemical equation? A: H_{2}O -&gt; H + O + H\\nB: 2H_{2}O(l) -&gt; 2H_{2}(g) + O_{2}(g)\\nC: H:O:H -&gt; H_{2}O\\nD: H_{2}O(l) -&gt; 2H(g) + O(g)\\n</td>\n",
       "    </tr>\n",
       "  </tbody>\n",
       "</table>\n",
       "<p>22 rows × 4 columns</p>\n",
       "</div>"
      ],
      "text/plain": [
       "   target  \\\n",
       "0       C   \n",
       "1       B   \n",
       "2       C   \n",
       "3       D   \n",
       "4       D   \n",
       "..    ...   \n",
       "17      B   \n",
       "18      A   \n",
       "19      C   \n",
       "20      B   \n",
       "21      B   \n",
       "\n",
       "                                                                                                                                                                                                                                                                                                                  input  \\\n",
       "0                                                                                                                                                                           An astronomer observes that a planet rotates faster after a meteorite impact. Which is the most likely effect of this increase in rotation?   \n",
       "1                               A group of engineers wanted to know how different building designs would respond during an earthquake. They made several models of buildings and tested each for its ability to withstand earthquake conditions. Which will most likely result from testing different building designs?   \n",
       "2                                                                                                                                                                            The end result in the process of photosynthesis is the production of sugar and oxygen. Which step signals the beginning of photosynthesis?   \n",
       "3                                                   A physicist wants to determine the speed a car must reach to jump over a ramp. The physicist conducts three trials. In trials two and three, the speed of the car is increased by 20 miles per hour. What is the physicist investigating when he changes the speed?   \n",
       "4                                                                                             An astronaut drops a 1.0 kg object and a 5.0 kg object on the Moon. Both objects fall a total distance of 2.0 m vertically. Which of the following best describes the objects after they have fallen a distance of 1.0 m?   \n",
       "..                                                                                                                                                                                                                                                                                                                  ...   \n",
       "17                                                                                                                Molly was making iced tea by putting tea bags in boiling water. She needed to cool the hot tea quickly, so she poured it into a pitcher full of ice. Which best describes the flow of thermal energy?   \n",
       "18  Logging companies cut trees in a forest and send the trees to lumber mills far from the forest. The mills make boards that are used for construction. Some logging companies do not plant tree seedlings after cutting trees. Not planting tree seedlings might affect people who need boards in the future because   \n",
       "19                                                                                                             It was once thought that living organisms could come from non-living matter. For example, people believed that flies would develop from rotting meat. This idea was later disproved primarily because of   \n",
       "20                                                                                                                                         Cells take in food for energy. The part of the cell that aids in digestion of the food is the lysosome. What is the main role of lysosomes in the process of food digestion?   \n",
       "21                                                                                                                         When an electric current is passed through water (H_{2}O) using a specific apparatus, hydrogen (H_{2}) and oxygen (O_{2}) gases form. How can this reaction be shown in a chemical equation?   \n",
       "\n",
       "                                                                                                                                                                                                                                     choices  \\\n",
       "0                                                                          A: Planetary density will decrease.\\nB: Planetary years will become longer.\\nC: Planetary days will become shorter.\\nD: Planetary gravity will become stronger.\\n   \n",
       "1                                                                                           A: buildings will be built faster\\nB: buildings will be made safer\\nC: building designs will look nicer\\nD: building materials will be cheaper\\n   \n",
       "2                                       A: Chemical energy is absorbed through the roots.\\nB: Light energy is converted to chemical energy.\\nC: Chlorophyll in the leaf captures light energy.\\nD: Sunlight is converted into chlorophyll.\\n   \n",
       "3                                                                                                           A: the control\\nB: the hypothesis statement\\nC: the dependent (responding) variable\\nD: the independent (manipulated) variable\\n   \n",
       "4   A: They have each lost kinetic energy.\\nB: They have each gained the same amount of potential energy.\\nC: They have each lost the same amount of potential energy.\\nD: They have each gained one-half of their maximum kinetic energy.\\n   \n",
       "..                                                                                                                                                                                                                                       ...   \n",
       "17                                                                                                                  A: from the ice to the tea\\nB: from the tea to the ice\\nC: from the pitcher to the tea\\nD: from the ice to the pitcher\\n   \n",
       "18                                                                             A: the price of boards will increase\\nB: the price of boards will decrease\\nC: there will be more boards available\\nD: there will be more trees for logging\\n   \n",
       "19                                                                                                       A: the discovery of the atom.\\nB: better surgical techniques.\\nC: continued experimentation.\\nD: the invention of the microscope.\\n   \n",
       "20                                                                                               A: building proteins\\nB: breaking down wastes\\nC: controlling the activities of the cell\\nD: converting energy from one form into another\\n   \n",
       "21                                                                                                                         A: H_{2}O -> H + O + H\\nB: 2H_{2}O(l) -> 2H_{2}(g) + O_{2}(g)\\nC: H:O:H -> H_{2}O\\nD: H_{2}O(l) -> 2H(g) + O(g)\\n   \n",
       "\n",
       "                                                                                                                                                                                                                                                                                                                                                                                                                                                                           full_input  \n",
       "0                                                                                                                                                                       An astronomer observes that a planet rotates faster after a meteorite impact. Which is the most likely effect of this increase in rotation? A: Planetary density will decrease.\\nB: Planetary years will become longer.\\nC: Planetary days will become shorter.\\nD: Planetary gravity will become stronger.\\n  \n",
       "1                                            A group of engineers wanted to know how different building designs would respond during an earthquake. They made several models of buildings and tested each for its ability to withstand earthquake conditions. Which will most likely result from testing different building designs? A: buildings will be built faster\\nB: buildings will be made safer\\nC: building designs will look nicer\\nD: building materials will be cheaper\\n  \n",
       "2                                                                                                                                     The end result in the process of photosynthesis is the production of sugar and oxygen. Which step signals the beginning of photosynthesis? A: Chemical energy is absorbed through the roots.\\nB: Light energy is converted to chemical energy.\\nC: Chlorophyll in the leaf captures light energy.\\nD: Sunlight is converted into chlorophyll.\\n  \n",
       "3                                                                                A physicist wants to determine the speed a car must reach to jump over a ramp. The physicist conducts three trials. In trials two and three, the speed of the car is increased by 20 miles per hour. What is the physicist investigating when he changes the speed? A: the control\\nB: the hypothesis statement\\nC: the dependent (responding) variable\\nD: the independent (manipulated) variable\\n  \n",
       "4                  An astronaut drops a 1.0 kg object and a 5.0 kg object on the Moon. Both objects fall a total distance of 2.0 m vertically. Which of the following best describes the objects after they have fallen a distance of 1.0 m? A: They have each lost kinetic energy.\\nB: They have each gained the same amount of potential energy.\\nC: They have each lost the same amount of potential energy.\\nD: They have each gained one-half of their maximum kinetic energy.\\n  \n",
       "..                                                                                                                                                                                                                                                                                                                                                                                                                                                                                ...  \n",
       "17                                                                                                                                                     Molly was making iced tea by putting tea bags in boiling water. She needed to cool the hot tea quickly, so she poured it into a pitcher full of ice. Which best describes the flow of thermal energy? A: from the ice to the tea\\nB: from the tea to the ice\\nC: from the pitcher to the tea\\nD: from the ice to the pitcher\\n  \n",
       "18  Logging companies cut trees in a forest and send the trees to lumber mills far from the forest. The mills make boards that are used for construction. Some logging companies do not plant tree seedlings after cutting trees. Not planting tree seedlings might affect people who need boards in the future because A: the price of boards will increase\\nB: the price of boards will decrease\\nC: there will be more boards available\\nD: there will be more trees for logging\\n  \n",
       "19                                                                                                                                       It was once thought that living organisms could come from non-living matter. For example, people believed that flies would develop from rotting meat. This idea was later disproved primarily because of A: the discovery of the atom.\\nB: better surgical techniques.\\nC: continued experimentation.\\nD: the invention of the microscope.\\n  \n",
       "20                                                                                                                                                           Cells take in food for energy. The part of the cell that aids in digestion of the food is the lysosome. What is the main role of lysosomes in the process of food digestion? A: building proteins\\nB: breaking down wastes\\nC: controlling the activities of the cell\\nD: converting energy from one form into another\\n  \n",
       "21                                                                                                                                                                     When an electric current is passed through water (H_{2}O) using a specific apparatus, hydrogen (H_{2}) and oxygen (O_{2}) gases form. How can this reaction be shown in a chemical equation? A: H_{2}O -> H + O + H\\nB: 2H_{2}O(l) -> 2H_{2}(g) + O_{2}(g)\\nC: H:O:H -> H_{2}O\\nD: H_{2}O(l) -> 2H(g) + O(g)\\n  \n",
       "\n",
       "[22 rows x 4 columns]"
      ]
     },
     "execution_count": 21,
     "metadata": {},
     "output_type": "execute_result"
    }
   ],
   "source": [
    "main_df.head(22)"
   ]
  },
  {
   "cell_type": "code",
   "execution_count": null,
   "metadata": {},
   "outputs": [],
   "source": []
  }
 ],
 "metadata": {
  "kernelspec": {
   "display_name": "python_env",
   "language": "python",
   "name": "python3"
  },
  "language_info": {
   "codemirror_mode": {
    "name": "ipython",
    "version": 3
   },
   "file_extension": ".py",
   "mimetype": "text/x-python",
   "name": "python",
   "nbconvert_exporter": "python",
   "pygments_lexer": "ipython3",
   "version": "3.12.7"
  }
 },
 "nbformat": 4,
 "nbformat_minor": 2
}
