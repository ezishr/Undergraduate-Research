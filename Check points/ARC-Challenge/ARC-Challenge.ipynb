{
 "cells": [
  {
   "cell_type": "code",
   "execution_count": 10,
   "metadata": {},
   "outputs": [],
   "source": [
    "import sys\n",
    "sys.path.append('../../Modules/')\n",
    "sys.path.append('../../Modules/Processors from Prof')\n",
    "from Packages import *\n",
    "from My_Json_processor import *\n",
    "\n",
    "# Import processors from Prof\n",
    "from ipynb.fs.full.Utilities import *\n",
    "from ipynb.fs.full.Json_Processor import *\n",
    "from ipynb.fs.full.CSV_Processor import *"
   ]
  },
  {
   "cell_type": "code",
   "execution_count": 2,
   "metadata": {},
   "outputs": [],
   "source": [
    "main_df = ARC_Challenge_Processor_my('ARC-Challenge','ARC-Challenge-Test.jsonl')\n",
    "main_df = main_df.convert_df()"
   ]
  },
  {
   "cell_type": "code",
   "execution_count": 4,
   "metadata": {},
   "outputs": [
    {
     "data": {
      "text/html": [
       "<div>\n",
       "<style scoped>\n",
       "    .dataframe tbody tr th:only-of-type {\n",
       "        vertical-align: middle;\n",
       "    }\n",
       "\n",
       "    .dataframe tbody tr th {\n",
       "        vertical-align: top;\n",
       "    }\n",
       "\n",
       "    .dataframe thead th {\n",
       "        text-align: right;\n",
       "    }\n",
       "</style>\n",
       "<table border=\"1\" class=\"dataframe\">\n",
       "  <thead>\n",
       "    <tr style=\"text-align: right;\">\n",
       "      <th></th>\n",
       "      <th>target</th>\n",
       "      <th>input</th>\n",
       "      <th>choices</th>\n",
       "    </tr>\n",
       "  </thead>\n",
       "  <tbody>\n",
       "    <tr>\n",
       "      <th>0</th>\n",
       "      <td>C</td>\n",
       "      <td>An astronomer observes that a planet rotates faster after a meteorite impact. Which is the most likely effect of this increase in rotation?</td>\n",
       "      <td>A: Planetary density will decrease.\\nB: Planetary years will become longer.\\nC: Planetary days will become shorter.\\nD: Planetary gravity will become stronger.\\n</td>\n",
       "    </tr>\n",
       "    <tr>\n",
       "      <th>1</th>\n",
       "      <td>B</td>\n",
       "      <td>A group of engineers wanted to know how different building designs would respond during an earthquake. They made several models of buildings and tested each for its ability to withstand earthquake conditions. Which will most likely result from testing different building designs?</td>\n",
       "      <td>A: buildings will be built faster\\nB: buildings will be made safer\\nC: building designs will look nicer\\nD: building materials will be cheaper\\n</td>\n",
       "    </tr>\n",
       "    <tr>\n",
       "      <th>2</th>\n",
       "      <td>C</td>\n",
       "      <td>The end result in the process of photosynthesis is the production of sugar and oxygen. Which step signals the beginning of photosynthesis?</td>\n",
       "      <td>A: Chemical energy is absorbed through the roots.\\nB: Light energy is converted to chemical energy.\\nC: Chlorophyll in the leaf captures light energy.\\nD: Sunlight is converted into chlorophyll.\\n</td>\n",
       "    </tr>\n",
       "    <tr>\n",
       "      <th>3</th>\n",
       "      <td>D</td>\n",
       "      <td>A physicist wants to determine the speed a car must reach to jump over a ramp. The physicist conducts three trials. In trials two and three, the speed of the car is increased by 20 miles per hour. What is the physicist investigating when he changes the speed?</td>\n",
       "      <td>A: the control\\nB: the hypothesis statement\\nC: the dependent (responding) variable\\nD: the independent (manipulated) variable\\n</td>\n",
       "    </tr>\n",
       "    <tr>\n",
       "      <th>4</th>\n",
       "      <td>D</td>\n",
       "      <td>An astronaut drops a 1.0 kg object and a 5.0 kg object on the Moon. Both objects fall a total distance of 2.0 m vertically. Which of the following best describes the objects after they have fallen a distance of 1.0 m?</td>\n",
       "      <td>A: They have each lost kinetic energy.\\nB: They have each gained the same amount of potential energy.\\nC: They have each lost the same amount of potential energy.\\nD: They have each gained one-half of their maximum kinetic energy.\\n</td>\n",
       "    </tr>\n",
       "  </tbody>\n",
       "</table>\n",
       "</div>"
      ],
      "text/plain": [
       "  target  \\\n",
       "0      C   \n",
       "1      B   \n",
       "2      C   \n",
       "3      D   \n",
       "4      D   \n",
       "\n",
       "                                                                                                                                                                                                                                                                                     input  \\\n",
       "0                                                                                                                                              An astronomer observes that a planet rotates faster after a meteorite impact. Which is the most likely effect of this increase in rotation?   \n",
       "1  A group of engineers wanted to know how different building designs would respond during an earthquake. They made several models of buildings and tested each for its ability to withstand earthquake conditions. Which will most likely result from testing different building designs?   \n",
       "2                                                                                                                                               The end result in the process of photosynthesis is the production of sugar and oxygen. Which step signals the beginning of photosynthesis?   \n",
       "3                      A physicist wants to determine the speed a car must reach to jump over a ramp. The physicist conducts three trials. In trials two and three, the speed of the car is increased by 20 miles per hour. What is the physicist investigating when he changes the speed?   \n",
       "4                                                                An astronaut drops a 1.0 kg object and a 5.0 kg object on the Moon. Both objects fall a total distance of 2.0 m vertically. Which of the following best describes the objects after they have fallen a distance of 1.0 m?   \n",
       "\n",
       "                                                                                                                                                                                                                                    choices  \n",
       "0                                                                         A: Planetary density will decrease.\\nB: Planetary years will become longer.\\nC: Planetary days will become shorter.\\nD: Planetary gravity will become stronger.\\n  \n",
       "1                                                                                          A: buildings will be built faster\\nB: buildings will be made safer\\nC: building designs will look nicer\\nD: building materials will be cheaper\\n  \n",
       "2                                      A: Chemical energy is absorbed through the roots.\\nB: Light energy is converted to chemical energy.\\nC: Chlorophyll in the leaf captures light energy.\\nD: Sunlight is converted into chlorophyll.\\n  \n",
       "3                                                                                                          A: the control\\nB: the hypothesis statement\\nC: the dependent (responding) variable\\nD: the independent (manipulated) variable\\n  \n",
       "4  A: They have each lost kinetic energy.\\nB: They have each gained the same amount of potential energy.\\nC: They have each lost the same amount of potential energy.\\nD: They have each gained one-half of their maximum kinetic energy.\\n  "
      ]
     },
     "execution_count": 4,
     "metadata": {},
     "output_type": "execute_result"
    }
   ],
   "source": [
    "main_df.head()"
   ]
  }
 ],
 "metadata": {
  "kernelspec": {
   "display_name": "base",
   "language": "python",
   "name": "python3"
  },
  "language_info": {
   "codemirror_mode": {
    "name": "ipython",
    "version": 3
   },
   "file_extension": ".py",
   "mimetype": "text/x-python",
   "name": "python",
   "nbconvert_exporter": "python",
   "pygments_lexer": "ipython3",
   "version": "3.13.0"
  }
 },
 "nbformat": 4,
 "nbformat_minor": 2
}
