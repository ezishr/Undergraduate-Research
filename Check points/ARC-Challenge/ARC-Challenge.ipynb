{
 "cells": [
  {
   "cell_type": "markdown",
   "metadata": {},
   "source": [
    "## Setup"
   ]
  },
  {
   "cell_type": "code",
   "execution_count": 3,
   "metadata": {},
   "outputs": [],
   "source": [
    "import sys\n",
    "sys.path.append('../../Modules/')\n",
    "sys.path.append('../../Modules/Processors from Prof')\n",
    "from Packages import *\n",
    "from My_Json_processor import *\n",
    "\n",
    "# Import processors from Prof\n",
    "from ipynb.fs.full.Utilities import *\n",
    "from ipynb.fs.full.Json_Processor import *\n",
    "from ipynb.fs.full.CSV_Processor import *"
   ]
  },
  {
   "cell_type": "code",
   "execution_count": 2,
   "metadata": {},
   "outputs": [],
   "source": [
    "main_df = ARC_Challenge_Processor_my('ARC-Challenge','ARC-Challenge-Test.jsonl')\n",
    "main_df = main_df.convert_df()"
   ]
  },
  {
   "cell_type": "code",
   "execution_count": 3,
   "metadata": {},
   "outputs": [],
   "source": [
    "main_df['full_input'] = main_df['input'] + \" \" + main_df['choices']"
   ]
  },
  {
   "cell_type": "code",
   "execution_count": 4,
   "metadata": {},
   "outputs": [
    {
     "name": "stdout",
     "output_type": "stream",
     "text": [
      "An astronomer observes that a planet rotates faster after a meteorite impact. Which is the most likely effect of this increase in rotation? A: Planetary density will decrease.\n",
      "B: Planetary years will become longer.\n",
      "C: Planetary days will become shorter.\n",
      "D: Planetary gravity will become stronger.\n",
      "\n"
     ]
    }
   ],
   "source": [
    "print(main_df.iloc[0]['full_input'])"
   ]
  },
  {
   "cell_type": "code",
   "execution_count": 5,
   "metadata": {},
   "outputs": [
    {
     "data": {
      "text/html": [
       "<div>\n",
       "<style scoped>\n",
       "    .dataframe tbody tr th:only-of-type {\n",
       "        vertical-align: middle;\n",
       "    }\n",
       "\n",
       "    .dataframe tbody tr th {\n",
       "        vertical-align: top;\n",
       "    }\n",
       "\n",
       "    .dataframe thead th {\n",
       "        text-align: right;\n",
       "    }\n",
       "</style>\n",
       "<table border=\"1\" class=\"dataframe\">\n",
       "  <thead>\n",
       "    <tr style=\"text-align: right;\">\n",
       "      <th></th>\n",
       "      <th>target</th>\n",
       "      <th>input</th>\n",
       "      <th>choices</th>\n",
       "      <th>full_input</th>\n",
       "    </tr>\n",
       "  </thead>\n",
       "  <tbody>\n",
       "    <tr>\n",
       "      <th>0</th>\n",
       "      <td>C</td>\n",
       "      <td>An astronomer observes that a planet rotates faster after a meteorite impact. Which is the most likely effect of this increase in rotation?</td>\n",
       "      <td>A: Planetary density will decrease.\\nB: Planetary years will become longer.\\nC: Planetary days will become shorter.\\nD: Planetary gravity will become stronger.\\n</td>\n",
       "      <td>An astronomer observes that a planet rotates faster after a meteorite impact. Which is the most likely effect of this increase in rotation? A: Planetary density will decrease.\\nB: Planetary years will become longer.\\nC: Planetary days will become shorter.\\nD: Planetary gravity will become stronger.\\n</td>\n",
       "    </tr>\n",
       "    <tr>\n",
       "      <th>1</th>\n",
       "      <td>B</td>\n",
       "      <td>A group of engineers wanted to know how different building designs would respond during an earthquake. They made several models of buildings and tested each for its ability to withstand earthquake conditions. Which will most likely result from testing different building designs?</td>\n",
       "      <td>A: buildings will be built faster\\nB: buildings will be made safer\\nC: building designs will look nicer\\nD: building materials will be cheaper\\n</td>\n",
       "      <td>A group of engineers wanted to know how different building designs would respond during an earthquake. They made several models of buildings and tested each for its ability to withstand earthquake conditions. Which will most likely result from testing different building designs? A: buildings will be built faster\\nB: buildings will be made safer\\nC: building designs will look nicer\\nD: building materials will be cheaper\\n</td>\n",
       "    </tr>\n",
       "    <tr>\n",
       "      <th>2</th>\n",
       "      <td>C</td>\n",
       "      <td>The end result in the process of photosynthesis is the production of sugar and oxygen. Which step signals the beginning of photosynthesis?</td>\n",
       "      <td>A: Chemical energy is absorbed through the roots.\\nB: Light energy is converted to chemical energy.\\nC: Chlorophyll in the leaf captures light energy.\\nD: Sunlight is converted into chlorophyll.\\n</td>\n",
       "      <td>The end result in the process of photosynthesis is the production of sugar and oxygen. Which step signals the beginning of photosynthesis? A: Chemical energy is absorbed through the roots.\\nB: Light energy is converted to chemical energy.\\nC: Chlorophyll in the leaf captures light energy.\\nD: Sunlight is converted into chlorophyll.\\n</td>\n",
       "    </tr>\n",
       "    <tr>\n",
       "      <th>3</th>\n",
       "      <td>D</td>\n",
       "      <td>A physicist wants to determine the speed a car must reach to jump over a ramp. The physicist conducts three trials. In trials two and three, the speed of the car is increased by 20 miles per hour. What is the physicist investigating when he changes the speed?</td>\n",
       "      <td>A: the control\\nB: the hypothesis statement\\nC: the dependent (responding) variable\\nD: the independent (manipulated) variable\\n</td>\n",
       "      <td>A physicist wants to determine the speed a car must reach to jump over a ramp. The physicist conducts three trials. In trials two and three, the speed of the car is increased by 20 miles per hour. What is the physicist investigating when he changes the speed? A: the control\\nB: the hypothesis statement\\nC: the dependent (responding) variable\\nD: the independent (manipulated) variable\\n</td>\n",
       "    </tr>\n",
       "    <tr>\n",
       "      <th>4</th>\n",
       "      <td>D</td>\n",
       "      <td>An astronaut drops a 1.0 kg object and a 5.0 kg object on the Moon. Both objects fall a total distance of 2.0 m vertically. Which of the following best describes the objects after they have fallen a distance of 1.0 m?</td>\n",
       "      <td>A: They have each lost kinetic energy.\\nB: They have each gained the same amount of potential energy.\\nC: They have each lost the same amount of potential energy.\\nD: They have each gained one-half of their maximum kinetic energy.\\n</td>\n",
       "      <td>An astronaut drops a 1.0 kg object and a 5.0 kg object on the Moon. Both objects fall a total distance of 2.0 m vertically. Which of the following best describes the objects after they have fallen a distance of 1.0 m? A: They have each lost kinetic energy.\\nB: They have each gained the same amount of potential energy.\\nC: They have each lost the same amount of potential energy.\\nD: They have each gained one-half of their maximum kinetic energy.\\n</td>\n",
       "    </tr>\n",
       "  </tbody>\n",
       "</table>\n",
       "</div>"
      ],
      "text/plain": [
       "  target  \\\n",
       "0      C   \n",
       "1      B   \n",
       "2      C   \n",
       "3      D   \n",
       "4      D   \n",
       "\n",
       "                                                                                                                                                                                                                                                                                     input  \\\n",
       "0                                                                                                                                              An astronomer observes that a planet rotates faster after a meteorite impact. Which is the most likely effect of this increase in rotation?   \n",
       "1  A group of engineers wanted to know how different building designs would respond during an earthquake. They made several models of buildings and tested each for its ability to withstand earthquake conditions. Which will most likely result from testing different building designs?   \n",
       "2                                                                                                                                               The end result in the process of photosynthesis is the production of sugar and oxygen. Which step signals the beginning of photosynthesis?   \n",
       "3                      A physicist wants to determine the speed a car must reach to jump over a ramp. The physicist conducts three trials. In trials two and three, the speed of the car is increased by 20 miles per hour. What is the physicist investigating when he changes the speed?   \n",
       "4                                                                An astronaut drops a 1.0 kg object and a 5.0 kg object on the Moon. Both objects fall a total distance of 2.0 m vertically. Which of the following best describes the objects after they have fallen a distance of 1.0 m?   \n",
       "\n",
       "                                                                                                                                                                                                                                    choices  \\\n",
       "0                                                                         A: Planetary density will decrease.\\nB: Planetary years will become longer.\\nC: Planetary days will become shorter.\\nD: Planetary gravity will become stronger.\\n   \n",
       "1                                                                                          A: buildings will be built faster\\nB: buildings will be made safer\\nC: building designs will look nicer\\nD: building materials will be cheaper\\n   \n",
       "2                                      A: Chemical energy is absorbed through the roots.\\nB: Light energy is converted to chemical energy.\\nC: Chlorophyll in the leaf captures light energy.\\nD: Sunlight is converted into chlorophyll.\\n   \n",
       "3                                                                                                          A: the control\\nB: the hypothesis statement\\nC: the dependent (responding) variable\\nD: the independent (manipulated) variable\\n   \n",
       "4  A: They have each lost kinetic energy.\\nB: They have each gained the same amount of potential energy.\\nC: They have each lost the same amount of potential energy.\\nD: They have each gained one-half of their maximum kinetic energy.\\n   \n",
       "\n",
       "                                                                                                                                                                                                                                                                                                                                                                                                                                                           full_input  \n",
       "0                                                                                                                                                       An astronomer observes that a planet rotates faster after a meteorite impact. Which is the most likely effect of this increase in rotation? A: Planetary density will decrease.\\nB: Planetary years will become longer.\\nC: Planetary days will become shorter.\\nD: Planetary gravity will become stronger.\\n  \n",
       "1                            A group of engineers wanted to know how different building designs would respond during an earthquake. They made several models of buildings and tested each for its ability to withstand earthquake conditions. Which will most likely result from testing different building designs? A: buildings will be built faster\\nB: buildings will be made safer\\nC: building designs will look nicer\\nD: building materials will be cheaper\\n  \n",
       "2                                                                                                                     The end result in the process of photosynthesis is the production of sugar and oxygen. Which step signals the beginning of photosynthesis? A: Chemical energy is absorbed through the roots.\\nB: Light energy is converted to chemical energy.\\nC: Chlorophyll in the leaf captures light energy.\\nD: Sunlight is converted into chlorophyll.\\n  \n",
       "3                                                                A physicist wants to determine the speed a car must reach to jump over a ramp. The physicist conducts three trials. In trials two and three, the speed of the car is increased by 20 miles per hour. What is the physicist investigating when he changes the speed? A: the control\\nB: the hypothesis statement\\nC: the dependent (responding) variable\\nD: the independent (manipulated) variable\\n  \n",
       "4  An astronaut drops a 1.0 kg object and a 5.0 kg object on the Moon. Both objects fall a total distance of 2.0 m vertically. Which of the following best describes the objects after they have fallen a distance of 1.0 m? A: They have each lost kinetic energy.\\nB: They have each gained the same amount of potential energy.\\nC: They have each lost the same amount of potential energy.\\nD: They have each gained one-half of their maximum kinetic energy.\\n  "
      ]
     },
     "execution_count": 5,
     "metadata": {},
     "output_type": "execute_result"
    }
   ],
   "source": [
    "main_df.head()"
   ]
  },
  {
   "cell_type": "markdown",
   "metadata": {},
   "source": [
    "## GROQ API - Testing"
   ]
  },
  {
   "cell_type": "code",
   "execution_count": 6,
   "metadata": {},
   "outputs": [],
   "source": [
    "import os\n",
    "from groq import Groq"
   ]
  },
  {
   "cell_type": "code",
   "execution_count": 8,
   "metadata": {},
   "outputs": [
    {
     "name": "stdout",
     "output_type": "stream",
     "text": [
      "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\n"
     ]
    }
   ],
   "source": [
    "print(os.environ['GROQ_API_KEY'])"
   ]
  },
  {
   "cell_type": "code",
   "execution_count": 7,
   "metadata": {},
   "outputs": [],
   "source": [
    "client = Groq(\n",
    "    api_key=os.environ['GROQ_API_KEY'],\n",
    ")"
   ]
  },
  {
   "cell_type": "code",
   "execution_count": 9,
   "metadata": {},
   "outputs": [
    {
     "name": "stdout",
     "output_type": "stream",
     "text": [
      "B: breaking down wastes\n"
     ]
    }
   ],
   "source": [
    "chat_completion = client.chat.completions.create(\n",
    "    messages=[\n",
    "        {\n",
    "            \"role\":\"user\",\n",
    "            \"content\": main_df.iloc[20]['full_input']\n",
    "        },\n",
    "        {\n",
    "            'role': 'system',\n",
    "            'content': 'You only answer A, B, C, or D from the multiple choices.'\n",
    "        }\n",
    "    ],\n",
    "    model = \"llama3-8b-8192\"\n",
    ")\n",
    "\n",
    "print(chat_completion.choices[0].message.content)"
   ]
  },
  {
   "cell_type": "markdown",
   "metadata": {},
   "source": [
    "## Functions - df_to_csv, GROQ"
   ]
  },
  {
   "cell_type": "code",
   "execution_count": 28,
   "metadata": {},
   "outputs": [],
   "source": [
    "\"\"\"\n",
    "The function is to generate GROQ answers for the given data.\n",
    "\n",
    "@params: data(initial dataframe), system_message(message for Gemini system)\n",
    "@return: sample(dataframe with gemini_output column)\n",
    "\"\"\"\n",
    "\n",
    "def groq(data, system_message, model_name):\n",
    "\n",
    "    import time\n",
    "    total_requests = 0\n",
    "    successful_requests = 0\n",
    "    client = Groq(api_key=os.environ['GROQ_API_KEY'],)\n",
    "\n",
    "    sample = data.copy()\n",
    "    sample[model_name] = None\n",
    "\n",
    "\n",
    "    for i in range(len(sample)):\n",
    "        success = False\n",
    "        retries = 3\n",
    "\n",
    "        while not success and retries > 0:\n",
    "            try:\n",
    "                total_requests += 1\n",
    "                \n",
    "                chat_completion = client.chat.completions.create(\n",
    "                    messages=[\n",
    "                        {\n",
    "                            \"role\":\"user\",\n",
    "                            \"content\": sample.loc[i, 'full_input']\n",
    "                        },\n",
    "                        {\n",
    "                            'role': 'system',\n",
    "                            'content': system_message\n",
    "                        }\n",
    "                    ],\n",
    "                    model = model_name\n",
    "                )\n",
    "\n",
    "                response = chat_completion.choices[0].message.content\n",
    "\n",
    "                sample.loc[i, model_name] = response.strip()\n",
    "                success = True\n",
    "                successful_requests += 1\n",
    "                time.sleep(5)\n",
    "\n",
    "            except Exception as e:\n",
    "                # print(f\"Error: {e}\")\n",
    "                retries -= 1\n",
    "                time.sleep(5)\n",
    "                total_requests += 1\n",
    "\n",
    "    print(f\"Total requests made: {total_requests}\")\n",
    "    print(f\"Successful requests: {successful_requests}\")\n",
    "\n",
    "    return sample"
   ]
  },
  {
   "cell_type": "code",
   "execution_count": 29,
   "metadata": {},
   "outputs": [],
   "source": [
    "\"\"\"\n",
    "The function is to export the dataframe to a csv file.\n",
    "\n",
    "@params: folder_name(name of the folder), df(dataframe)\n",
    "@return: True if the dataframe is exported successfully, False otherwise\n",
    "\"\"\"\n",
    "\n",
    "def df_to_csv(folder_name, df, file_name, model_name):\n",
    "    base_path = r'/Users/ezishr/Library/CloudStorage/OneDrive-UniversityofCincinnati/Undergraduate Research/Check points'\n",
    "    if df[model_name].isnull().sum() == 0:\n",
    "        file_path = os.path.join(base_path, folder_name, f'{file_name}.csv')\n",
    "        os.makedirs(os.path.dirname(file_path), exist_ok=True)\n",
    "        df.to_csv(file_path, index=False)\n",
    "        print(f\"DataFrame exported successfully to {file_path}!\")\n",
    "    else:\n",
    "        print(f\"Export failed: DataFrame contains null values in {model_name}.\")\n",
    "        return False"
   ]
  },
  {
   "cell_type": "markdown",
   "metadata": {},
   "source": [
    "## My Testing - ARC-Challenge-Dev.jsonl"
   ]
  },
  {
   "cell_type": "markdown",
   "metadata": {},
   "source": [
    "### Get Dataset"
   ]
  },
  {
   "cell_type": "code",
   "execution_count": 1,
   "metadata": {},
   "outputs": [],
   "source": [
    "import os\n",
    "from groq import Groq\n",
    "\n",
    "os.environ[\"GROQ_API_KEY\"] = \"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\"\n",
    "\n",
    "client = Groq(\n",
    "    api_key=os.environ['GROQ_API_KEY'],\n",
    ")"
   ]
  },
  {
   "cell_type": "code",
   "execution_count": 4,
   "metadata": {},
   "outputs": [],
   "source": [
    "arc_challenge = ARC_Challenge_Processor_my('ARC-Challenge','ARC-Challenge-Test.jsonl').convert_df()"
   ]
  },
  {
   "cell_type": "code",
   "execution_count": 5,
   "metadata": {},
   "outputs": [],
   "source": [
    "arc_challenge['full_input'] = arc_challenge['input'] + \" \" + arc_challenge['choices']"
   ]
  },
  {
   "cell_type": "code",
   "execution_count": 6,
   "metadata": {},
   "outputs": [],
   "source": [
    "arc_challenge.drop(columns=['input','choices'],inplace=True)"
   ]
  },
  {
   "cell_type": "markdown",
   "metadata": {},
   "source": [
    "### GROQ - Model llama-3.3-70b-versatile"
   ]
  },
  {
   "cell_type": "code",
   "execution_count": 30,
   "metadata": {},
   "outputs": [
    {
     "ename": "KeyboardInterrupt",
     "evalue": "",
     "output_type": "error",
     "traceback": [
      "\u001b[0;31m---------------------------------------------------------------------------\u001b[0m",
      "\u001b[0;31mKeyboardInterrupt\u001b[0m                         Traceback (most recent call last)",
      "Cell \u001b[0;32mIn[30], line 1\u001b[0m\n\u001b[0;32m----> 1\u001b[0m llama_33_arc_challenge \u001b[38;5;241m=\u001b[39m \u001b[43mgroq\u001b[49m\u001b[43m(\u001b[49m\u001b[43marc_challenge\u001b[49m\u001b[43m,\u001b[49m\u001b[43m \u001b[49m\u001b[38;5;124;43m\"\u001b[39;49m\u001b[38;5;124;43mYou can answer only A, B, C, or D to the question\u001b[39;49m\u001b[38;5;124;43m\"\u001b[39;49m\u001b[43m,\u001b[49m\u001b[38;5;124;43m\"\u001b[39;49m\u001b[38;5;124;43mllama-3.3-70b-versatile\u001b[39;49m\u001b[38;5;124;43m\"\u001b[39;49m\u001b[43m)\u001b[49m\n",
      "Cell \u001b[0;32mIn[28], line 46\u001b[0m, in \u001b[0;36mgroq\u001b[0;34m(data, system_message, model_name)\u001b[0m\n\u001b[1;32m     44\u001b[0m     success \u001b[38;5;241m=\u001b[39m \u001b[38;5;28;01mTrue\u001b[39;00m\n\u001b[1;32m     45\u001b[0m     successful_requests \u001b[38;5;241m+\u001b[39m\u001b[38;5;241m=\u001b[39m \u001b[38;5;241m1\u001b[39m\n\u001b[0;32m---> 46\u001b[0m     \u001b[43mtime\u001b[49m\u001b[38;5;241;43m.\u001b[39;49m\u001b[43msleep\u001b[49m\u001b[43m(\u001b[49m\u001b[38;5;241;43m5\u001b[39;49m\u001b[43m)\u001b[49m\n\u001b[1;32m     48\u001b[0m \u001b[38;5;28;01mexcept\u001b[39;00m \u001b[38;5;167;01mException\u001b[39;00m \u001b[38;5;28;01mas\u001b[39;00m e:\n\u001b[1;32m     49\u001b[0m     \u001b[38;5;66;03m# print(f\"Error: {e}\")\u001b[39;00m\n\u001b[1;32m     50\u001b[0m     retries \u001b[38;5;241m-\u001b[39m\u001b[38;5;241m=\u001b[39m \u001b[38;5;241m1\u001b[39m\n",
      "\u001b[0;31mKeyboardInterrupt\u001b[0m: "
     ]
    }
   ],
   "source": [
    "llama_33_arc_challenge = groq(arc_challenge, \"You can answer only A, B, C, or D to the question\",\"llama-3.3-70b-versatile\")"
   ]
  },
  {
   "cell_type": "code",
   "execution_count": null,
   "metadata": {},
   "outputs": [],
   "source": []
  }
 ],
 "metadata": {
  "kernelspec": {
   "display_name": "python_env",
   "language": "python",
   "name": "python3"
  },
  "language_info": {
   "codemirror_mode": {
    "name": "ipython",
    "version": 3
   },
   "file_extension": ".py",
   "mimetype": "text/x-python",
   "name": "python",
   "nbconvert_exporter": "python",
   "pygments_lexer": "ipython3",
   "version": "3.12.7"
  }
 },
 "nbformat": 4,
 "nbformat_minor": 2
}
