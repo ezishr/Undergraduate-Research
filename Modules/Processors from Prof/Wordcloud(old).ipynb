{
 "cells": [
  {
   "cell_type": "markdown",
   "id": "6ba8674b-b035-455f-bd20-9025fe1d4ff3",
   "metadata": {},
   "source": [
    "#### Word Cloud utilities"
   ]
  },
  {
   "cell_type": "code",
   "execution_count": 1,
   "id": "eb58d92c-2df1-4b68-a89a-c06fd8905ba7",
   "metadata": {},
   "outputs": [],
   "source": [
    "# Bill Nicholson\n",
    "# nicholdw@ucmail.uc.edu"
   ]
  },
  {
   "cell_type": "code",
   "execution_count": 2,
   "id": "b51f77a3-4ad2-4ceb-ac42-4b3411b1f3a1",
   "metadata": {},
   "outputs": [],
   "source": [
    "# https://pypi.org/project/wordcloud/\n",
    "#!pip install wordcloud\n",
    "import numpy as np\n",
    "from PIL import Image\n",
    "from os import path\n",
    "import matplotlib.pyplot as plt\n",
    "import os\n",
    "import random\n",
    "# from wordcloud import WordCloud, STOPWORDS\n",
    "from wordcloud import *"
   ]
  },
  {
   "cell_type": "code",
   "execution_count": 3,
   "id": "1caf4ff8-0c64-4246-899b-3e510f966a1d",
   "metadata": {},
   "outputs": [],
   "source": [
    "class Wordcloud:\n",
    "    \"\"\"\n",
    "    Wordcloud Utilities\n",
    "    \"\"\"\n",
    "    def generate(self, text):\n",
    "        # Generate a word cloud image\n",
    "        wordcloud = WordCloud().generate(text)\n",
    "\n",
    "        # Display the generated image:\n",
    "        # the matplotlib way:\n",
    "        import matplotlib.pyplot as plt\n",
    "        plt.imshow(wordcloud, interpolation='bilinear')\n",
    "        plt.axis(\"off\")\n",
    "\n",
    "        # lower max_font_size\n",
    "        wordcloud = WordCloud(max_font_size=40).generate(text)\n",
    "        plt.figure()\n",
    "        plt.imshow(wordcloud, interpolation=\"bilinear\")\n",
    "        plt.axis(\"off\")\n",
    "        plt.show()\n",
    "\n",
    "    def generate01(self, benchmark_name, text, myStopwords = None, file_name = \"wordcloud\"):\n",
    "\n",
    "        def grey_color_func(word, font_size, position, orientation, random_state=None, **kwargs):\n",
    "            return \"hsl(0, 0%%, %d%%)\" % random.randint(60, 100)\n",
    "        \n",
    "        stopwords = set(STOPWORDS)\n",
    "        \"\"\"\n",
    "        # Add some default stopwords specific to the text\n",
    "        stopwords.add(\"one\")\n",
    "        stopwords.add(\"said\")\n",
    "        stopwords.add(\"will\")\n",
    "        stopwords.add(\"little\")\n",
    "        stopwords.add(\"now\")\n",
    "        stopwords.add(\"well\")\n",
    "        stopwords.add(\"see\")\n",
    "        stopwords.add(\"must\")\n",
    "        stopwords.add(\"time\")\n",
    "        #print(stopwords)\n",
    "        \"\"\"\n",
    "        if myStopwords != None:\n",
    "            for word in myStopwords:\n",
    "                stopwords.add(word)\n",
    "                \n",
    "        wc = WordCloud(width=1600, height=800, random_state=42, colormap=\"viridis\").generate(text)\n",
    "        \n",
    "        #wc = WordCloud(max_words=10, stopwords=stopwords, margin=10, random_state=1).generate(text)\n",
    "        # store default colored image\n",
    "        default_colors = wc.to_array()\n",
    "        #plt.title(\"Word Cloud\")\n",
    "        #plt.imshow(wc.recolor(color_func=grey_color_func, random_state=3), interpolation=\"bilinear\")\n",
    "        #plt.imshow(wc.recolor(random_state=3), interpolation=\"bilinear\")\n",
    "        plt.axis(\"off\")\n",
    "        plt.figure(figsize=(15, 10))\n",
    "        plt.imshow(wc, interpolation=\"bilinear\")\n",
    "        plt.axis(\"off\")\n",
    "        wc.to_file(\".\\\\\" + benchmark_name + \"\\\\results\\\\\" + file_name + \".png\")\n",
    "        #plt.show()"
   ]
  },
  {
   "cell_type": "code",
   "execution_count": 4,
   "id": "2ae85b8c-6c17-4209-a8c4-d70715a1b571",
   "metadata": {},
   "outputs": [],
   "source": [
    "# if __name__ == \"__main__\":\n",
    "#     wordcloud = Wordcloud()\n",
    "#     # Generate a word cloud using a few strategically chosen words\n",
    "#     text = \"following following following following following following following following following following following following following following following the the the the the the the the the the Cat Cat Cat Cat Cat Cat Cat cat cat cat cat cat Dog Dog Mouse Fish\"\n",
    "#     wordcloud.generate01(\"Dummy Benchmark\", text, file_name = \"test01\")\n",
    "\n",
    "#     # Generate a word cloud using a book, Jane Eyre: An Autobiography\n",
    "#     # https://www.gutenberg.org/cache/epub/1260/pg1260.txt\n",
    "#     with open(\"pg1260.txt\",\"r\") as f:\n",
    "#         text = f.read()\n",
    "#     wordcloud.generate01(\"Dummy Benchmark\", text, file_name = \"test02\")\n"
   ]
  }
 ],
 "metadata": {
  "kernelspec": {
   "display_name": "python_env",
   "language": "python",
   "name": "python3"
  },
  "language_info": {
   "codemirror_mode": {
    "name": "ipython",
    "version": 3
   },
   "file_extension": ".py",
   "mimetype": "text/x-python",
   "name": "python",
   "nbconvert_exporter": "python",
   "pygments_lexer": "ipython3",
   "version": "3.12.7"
  }
 },
 "nbformat": 4,
 "nbformat_minor": 5
}
