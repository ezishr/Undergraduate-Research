{
 "cells": [
  {
   "cell_type": "markdown",
   "id": "5d2fba69-f501-49ba-8889-ed49583db0c4",
   "metadata": {},
   "source": [
    "#### TruthfulQA\n",
    "#### Research paper: https://arxiv.org/abs/2109.07958\n",
    "#### Copy of data: https://github.com/sylinrl/TruthfulQA"
   ]
  },
  {
   "cell_type": "code",
   "execution_count": 1,
   "id": "00214223-41a4-4566-8227-4d2e1df4ed9e",
   "metadata": {},
   "outputs": [],
   "source": [
    "#!pip install import-ipynb"
   ]
  },
  {
   "cell_type": "code",
   "execution_count": 2,
   "id": "d8eee929-0799-4602-b3c6-42aa5b0bef1c",
   "metadata": {},
   "outputs": [],
   "source": [
    "import import_ipynb\n",
    "import contextlib\n",
    "import random\n",
    "import gensim.parsing.preprocessing as preprocessing"
   ]
  },
  {
   "cell_type": "code",
   "execution_count": 3,
   "id": "f197ac24-8efc-4e34-8ec0-b23720017e62",
   "metadata": {},
   "outputs": [],
   "source": [
    "# Import Jupyter Notebook files\n",
    "with contextlib.redirect_stdout(None):\n",
    "    #ToDo import the correct data processor: JSON or CSV\n",
    "    from CSV_Processor import *\n",
    "    from Reading_Level import *\n",
    "    from Wordcloud import *\n",
    "    from Word_Processing import *\n",
    "    from Utilities import *"
   ]
  },
  {
   "cell_type": "code",
   "execution_count": 4,
   "id": "9bcb52f5-c928-4519-bd84-7769dafdc7f7",
   "metadata": {},
   "outputs": [],
   "source": [
    "def get_random_question(questions):\n",
    "    '''\n",
    "    Extract a random question \n",
    "    @param questions list: a list of dictionaries, each a question. \n",
    "    @param source_id str: the desired source of the question. Defaults to None for don't care.  \n",
    "    @return dictionary: The random question as a dictionary\n",
    "    '''\n",
    "    return random.choice(questions)"
   ]
  },
  {
   "cell_type": "code",
   "execution_count": 5,
   "id": "0328a99a-27d1-4760-99d7-4eb951c35f28",
   "metadata": {},
   "outputs": [],
   "source": [
    "def print_question(question):\n",
    "    '''\n",
    "    Print a question\n",
    "    @param question dictionary: The question to be printed\n",
    "    @return: None\n",
    "    '''\n",
    "    #print(\"print_question():\", question)\n",
    "    print(\"Input:\", question[\"input\"])\n",
    "    print(\"Target:\", question[\"target\"])"
   ]
  },
  {
   "cell_type": "code",
   "execution_count": 6,
   "id": "ec2ed762-5ee5-42e1-8312-526488a4e49b",
   "metadata": {},
   "outputs": [],
   "source": [
    "def get_csv_files(path):\n",
    "    '''\n",
    "    Extract csv files from a list of file paths\n",
    "    @param path list: The list to be processed\n",
    "    @return list: The list of files with the extension \".csv\"\n",
    "    '''\n",
    "    print(\"path:\", path)\n",
    "    all_files = read_directory_contents(path)\n",
    "    return [file for file in all_files if file.endswith(\"csv\")]"
   ]
  },
  {
   "cell_type": "code",
   "execution_count": 7,
   "id": "bb974de3-9515-4a2c-ae9c-29e3adbbbef5",
   "metadata": {},
   "outputs": [],
   "source": [
    "def load_questions(benchmark_name, question_path):\n",
    "    '''\n",
    "    Read questions from a directory containing one or more question files\n",
    "    @param benchmark_name string: the name of the benchmark, must be a folder in the filesystem where the data folder can be found,\n",
    "    @param question_path string: The location of the question file(s)\n",
    "    @return dictionary: key \"questions\" is a list of dictionaries, one dictionary for each question. Key \"csv_files\" is a list of the file names that were processed\n",
    "    '''\n",
    "    results = dict()\n",
    "    csv_files = get_csv_files(benchmark_name + \"/\"  + question_path)  #ToDo\n",
    "    print(\"csv_files:\", csv_files)     #ToDo\n",
    "\n",
    "    # ToDo\n",
    "    csv_processor = TruthfulQA_CSV_Processor(benchmark_name + \"/\" + question_path, csv_files)     #ToDo\n",
    "    questions = csv_processor.read_data()     #ToDo\n",
    "    results[\"questions\"] = questions\n",
    "    results[\"csv_files\"] = csv_files\n",
    "    return results"
   ]
  },
  {
   "cell_type": "code",
   "execution_count": 8,
   "id": "3d308140-f455-49a8-a14b-e2b27128b965",
   "metadata": {},
   "outputs": [],
   "source": [
    "def build_text_from_questions(questions, write_to = None, remove_stopwords = True):\n",
    "    '''\n",
    "    Build one long text string from all the questions.\n",
    "    This logic will vary based on the architecture of the benchmark questions.\n",
    "    @param questions list: list of dictionaries, one dictionary per question.\n",
    "    @param write_to string: File path to write the text string. Default is None. \n",
    "    @param remove_stopwords bool: True to remove stopwords from the text string. Defaults to True\n",
    "    @return String: The text string\n",
    "    '''\n",
    "    text = \"\"\n",
    "    for question in questions:\n",
    "        text += \" \" + str(question[\"input\"]) + \" \" + str(question[\"target\"])\n",
    "    text_without_stopwords = preprocessing.remove_stopwords(text)\n",
    "    if write_to != None:\n",
    "        write_string_to_file(text, write_to)\n",
    "        write_string_to_file(text_without_stopwords, write_to.replace(\".txt\", \"_stopwords_removed.txt\"))\n",
    "\n",
    "    if remove_stopwords:\n",
    "        #print(text_without_stopwords[0:1000])\n",
    "        return text_without_stopwords\n",
    "    else:\n",
    "        return text"
   ]
  },
  {
   "cell_type": "code",
   "execution_count": 9,
   "id": "3bd98d74-56e1-4c59-949d-6bc5ecfe6107",
   "metadata": {},
   "outputs": [],
   "source": [
    "def compute_readability_indices(benchmark_name, questions, verbose = True):\n",
    "    '''\n",
    "    Compute readability values using our Reading_Level class\n",
    "    @param questions list: A list of dictionaries, one dictionary per benchmark question\n",
    "    @param verbose bool: True if this function should print the computed values\n",
    "    @return dictionary: key is the readability metric, value is the corresponding score\n",
    "    '''\n",
    "    text = build_text_from_questions(questions, remove_stopwords = False)\n",
    "    indices = Reading_Level.compute_readability_indices(benchmark_name, text)\n",
    "\n",
    "    if (verbose):\n",
    "        print(\"Readability Indices:\")\n",
    "        for index, score in indices.items():\n",
    "            print(f\"{index}: {score:.2f}\")\n",
    "    return indices"
   ]
  },
  {
   "cell_type": "code",
   "execution_count": 10,
   "id": "7c0fe655-2446-41a2-868c-268e84b0b654",
   "metadata": {},
   "outputs": [],
   "source": [
    "def generate_wordcloud(benchmark_name, questions):\n",
    "    '''\n",
    "    Build a word cloud based on the questions in a benchmark\n",
    "    @param questions list: List of dictionaries, each dictionary os a question from the benchmark\n",
    "    @return None\n",
    "    '''\n",
    "    text = build_text_from_questions(questions)\n",
    "\n",
    "    wordcloud = Wordcloud()\n",
    "    wordcloud.generate01(benchmark_name, text, myStopwords={\"Numerical\", \"options\"})"
   ]
  },
  {
   "cell_type": "code",
   "execution_count": 11,
   "id": "efb8a6c4-19e8-45ef-a4fc-3aafeb33a596",
   "metadata": {},
   "outputs": [],
   "source": [
    "def compute_word_frequency(benchmark_name, questions, verbose = True, min_percentage = 1.0):\n",
    "    '''\n",
    "    Compute the word frequencies in the benchmark questions\n",
    "    @param questions list: List of dictionaries, each dictionary os a question from the benchmark\n",
    "    @param verbose bool: True if the function should print the word frequencies\n",
    "    @param min_percentage float: the smallest percentage that should be printed. Defaults to 1.0\n",
    "    @return set (dictionary, float): ({word:# of times that word appears over all questions}, total words)\n",
    "    '''\n",
    "    text = build_text_from_questions(questions)\n",
    "\n",
    "    word_frequency, count = Word_Processing.compute_word_frequency(text)\n",
    "    sorted_word_frequency = {k: v for k, v in sorted(word_frequency.items(), key=lambda item: item[1], reverse = True)}\n",
    "    count = float(count)\n",
    "    write_dict_to_file(sorted_word_frequency, \".\\\\\" + benchmark_name + \"\\\\results\\\\word_frequency.txt\", length = 100, denominator = count)\n",
    "    if verbose:\n",
    "        print(\"Word Frequency:\")\n",
    "        #for key in [key for key in sorted_word_frequency.keys()][:5]:\n",
    "        for key in sorted_word_frequency.keys():\n",
    "            percentage = (sorted_word_frequency[key] / count)* 100\n",
    "            if percentage >= min_percentage:\n",
    "                print(key, \":\", sorted_word_frequency[key], \",\", '{0:.2f}'.format(percentage))\n",
    "\n",
    "    return (sorted_word_frequency, count)"
   ]
  },
  {
   "cell_type": "code",
   "execution_count": 12,
   "id": "eeedb2a8-f7cf-46ac-a775-5b7fccae025a",
   "metadata": {},
   "outputs": [],
   "source": [
    "def compute_longest_words(benchmark_name, questions, verbose = True):\n",
    "    '''\n",
    "    Compute the longest words appearing across all the questions\n",
    "    @param questions list: List of dictionaries, each dictionary is a question from the benchmark\n",
    "    @param verbose bool: True if the function should print the words\n",
    "    @return set (dictionary, float): ({word:# of times that word appears over all questions}, total words)    \n",
    "    '''\n",
    "\n",
    "    text = build_text_from_questions(questions)\n",
    "\n",
    "    word_length, count = Word_Processing.compute_longest_words(text, min_length = 12)\n",
    "    #sorted_word_lengths = {k: v for k, v in sorted(word_length.items(), key=lambda item: item[1], reverse = True)}\n",
    "    sorted_word_lengths = {k: v for k, v in sorted(word_length.items(), key=lambda item: len(item[0]), reverse = True)}\n",
    "    count = float(count)\n",
    "    if verbose:\n",
    "        print(\"Longest Words:\")\n",
    "        for key in list(sorted_word_lengths.keys())[0:25]:\n",
    "            print(len(key), \", \", key, \":\", sorted_word_lengths[key], \",\", '{0:.2f}'.format((sorted_word_lengths[key] / count)* 100))\n",
    "\n",
    "    # Write all the missing words to a text file\n",
    "    write_dict_keys_to_file(sorted_word_lengths, \".\\\\\" + benchmark_name + \"\\\\results\\\\longest_words.txt\", 100)\n",
    "\n",
    "    return (sorted_word_lengths, count)"
   ]
  },
  {
   "cell_type": "code",
   "execution_count": 13,
   "id": "4501ec7e-8061-4ab1-8f13-73900945fc13",
   "metadata": {},
   "outputs": [],
   "source": [
    "def find_word(questions, word):\n",
    "    return Word_Processing.find_word(questions, word)"
   ]
  },
  {
   "cell_type": "code",
   "execution_count": 14,
   "id": "b8a999fd-7ac5-40d8-959c-7c3e81a8246b",
   "metadata": {},
   "outputs": [],
   "source": [
    "def find_missing_words(benchmark_name, questions, verbose = True, very_verbose = False):\n",
    "    \"\"\"\n",
    "    Find words not in the English dictionary. Numbers are ignired in this function.\n",
    "    @param questions dictionary: The data to be processed\n",
    "    @param verbose bool: If true, print some information about the first 10 words not found in the dictionary. Default to True\n",
    "    @param very_verbose bool: If true, print the questions containing the first 10 words that were not found in the dictionary. Default to False.\n",
    "    \n",
    "    @return dictionary: The unique words. key and value are both the unique word\n",
    "    \"\"\"\n",
    "    text = build_text_from_questions(questions, \".\\\\\" + benchmark_name + \"\\\\results\\\\questions_as_text.txt\")\n",
    "    print(\"Text built...\")\n",
    "    english = Word_Processing.load_dictionary()\n",
    "    print(\"Dictionary loaded...\")\n",
    "\n",
    "    words = Word_Processing.split_text(text)\n",
    "    print(\"Text split...\")\n",
    "    words_not_found = dict()\n",
    "    print(\"Processing word list...\")\n",
    "    for word in words:\n",
    "        try:\n",
    "            # If this fails, the word is not a number and we will add it to the dictionary of missing words.\n",
    "            tmp = float(word)\n",
    "        except:\n",
    "            if word.upper() not in english:\n",
    "                words_not_found[word] = word\n",
    "                #words_not_found.add(word)\n",
    "    # Write all the missing words to a text file\n",
    "    write_dict_keys_to_file(words_not_found, \".\\\\\" + benchmark_name + \"\\\\results\\\\words_not_in_dictionary.txt\", length = len(words_not_found))\n",
    "\n",
    "    if verbose:\n",
    "        print(len(words_not_found), \"words not in dictionary\")\n",
    "        print(\"First 10 words not in dictionary:\")\n",
    "        for i, key in enumerate(words_not_found.keys()):\n",
    "            if i >= 10:\n",
    "              break\n",
    "            print(key)\n",
    "    if very_verbose:\n",
    "        print(\"First 10 words not in dictionary and the questions those words appear in:\")\n",
    "        for i, key in enumerate(words_not_found.keys()):\n",
    "            if i >= 10:\n",
    "                break\n",
    "            print(key)\n",
    "            print(key , \"found in\", find_word(questions, key))\n",
    "    \n",
    "    return words_not_found"
   ]
  },
  {
   "cell_type": "code",
   "execution_count": 15,
   "id": "291ce2a6-090f-4634-b533-e0372a2d4131",
   "metadata": {},
   "outputs": [],
   "source": [
    "def demo():\n",
    "    benchmark_name = \"TruthfulQA\"     # ToDo\n",
    "    question_path = \"data/\"\n",
    "    result = load_questions(benchmark_name, question_path)\n",
    "    questions = result[\"questions\"]\n",
    "    csv_files = result[\"csv_files\"]\n",
    "    print(len(questions), \"questions read from\", len(csv_files), \"files in\", question_path)\n",
    "\n",
    "    random_question = get_random_question(questions)\n",
    "\n",
    "    words_not_found = find_missing_words(benchmark_name, questions)\n",
    "\n",
    "    print(\"Random question:\")\n",
    "    print_question(random_question)\n",
    "    \n",
    "    compute_readability_indices(benchmark_name, questions)\n",
    "    \n",
    "    generate_wordcloud(benchmark_name, questions)\n",
    "\n",
    "    compute_word_frequency(benchmark_name, questions)\n",
    "    \n",
    "    compute_longest_words(benchmark_name, questions)"
   ]
  },
  {
   "cell_type": "code",
   "execution_count": 16,
   "id": "8220074d-8dd0-4742-8d18-2462e3f06ff7",
   "metadata": {},
   "outputs": [
    {
     "name": "stdout",
     "output_type": "stream",
     "text": [
      "path: TruthfulQA/data/\n",
      "csv_files: ['eval_examples.csv']\n",
      "TruthfulQA_CSV_Processor.__init__: self.question_path: TruthfulQA/data/ self.input_files: ['eval_examples.csv']\n",
      "CSV file path: TruthfulQA/data/eval_examples.csv\n",
      "817 questions read from 1 files in data/\n"
     ]
    },
    {
     "ename": "NameError",
     "evalue": "name 'remove_stop_words' is not defined",
     "output_type": "error",
     "traceback": [
      "\u001b[1;31m---------------------------------------------------------------------------\u001b[0m",
      "\u001b[1;31mNameError\u001b[0m                                 Traceback (most recent call last)",
      "Input \u001b[1;32mIn [16]\u001b[0m, in \u001b[0;36m<cell line: 1>\u001b[1;34m()\u001b[0m\n\u001b[0;32m      1\u001b[0m \u001b[38;5;28;01mif\u001b[39;00m \u001b[38;5;18m__name__\u001b[39m \u001b[38;5;241m==\u001b[39m \u001b[38;5;124m\"\u001b[39m\u001b[38;5;124m__main__\u001b[39m\u001b[38;5;124m\"\u001b[39m:\n\u001b[1;32m----> 2\u001b[0m     \u001b[43mdemo\u001b[49m\u001b[43m(\u001b[49m\u001b[43m)\u001b[49m\n",
      "Input \u001b[1;32mIn [15]\u001b[0m, in \u001b[0;36mdemo\u001b[1;34m()\u001b[0m\n\u001b[0;32m      7\u001b[0m \u001b[38;5;28mprint\u001b[39m(\u001b[38;5;28mlen\u001b[39m(questions), \u001b[38;5;124m\"\u001b[39m\u001b[38;5;124mquestions read from\u001b[39m\u001b[38;5;124m\"\u001b[39m, \u001b[38;5;28mlen\u001b[39m(csv_files), \u001b[38;5;124m\"\u001b[39m\u001b[38;5;124mfiles in\u001b[39m\u001b[38;5;124m\"\u001b[39m, question_path)\n\u001b[0;32m      9\u001b[0m random_question \u001b[38;5;241m=\u001b[39m get_random_question(questions)\n\u001b[1;32m---> 11\u001b[0m words_not_found \u001b[38;5;241m=\u001b[39m \u001b[43mfind_missing_words\u001b[49m\u001b[43m(\u001b[49m\u001b[43mbenchmark_name\u001b[49m\u001b[43m,\u001b[49m\u001b[43m \u001b[49m\u001b[43mquestions\u001b[49m\u001b[43m)\u001b[49m\n\u001b[0;32m     13\u001b[0m \u001b[38;5;28mprint\u001b[39m(\u001b[38;5;124m\"\u001b[39m\u001b[38;5;124mRandom question:\u001b[39m\u001b[38;5;124m\"\u001b[39m)\n\u001b[0;32m     14\u001b[0m print_question(random_question)\n",
      "Input \u001b[1;32mIn [14]\u001b[0m, in \u001b[0;36mfind_missing_words\u001b[1;34m(benchmark_name, questions, verbose, very_verbose)\u001b[0m\n\u001b[0;32m      1\u001b[0m \u001b[38;5;28;01mdef\u001b[39;00m \u001b[38;5;21mfind_missing_words\u001b[39m(benchmark_name, questions, verbose \u001b[38;5;241m=\u001b[39m \u001b[38;5;28;01mTrue\u001b[39;00m, very_verbose \u001b[38;5;241m=\u001b[39m \u001b[38;5;28;01mFalse\u001b[39;00m):\n\u001b[0;32m      2\u001b[0m \u001b[38;5;250m    \u001b[39m\u001b[38;5;124;03m\"\"\"\u001b[39;00m\n\u001b[0;32m      3\u001b[0m \u001b[38;5;124;03m    Find words not in the English dictionary. Numbers are ignired in this function.\u001b[39;00m\n\u001b[0;32m      4\u001b[0m \u001b[38;5;124;03m    @param questions dictionary: The data to be processed\u001b[39;00m\n\u001b[1;32m   (...)\u001b[0m\n\u001b[0;32m      8\u001b[0m \u001b[38;5;124;03m    @return dictionary: The unique words. key and value are both the unique word\u001b[39;00m\n\u001b[0;32m      9\u001b[0m \u001b[38;5;124;03m    \"\"\"\u001b[39;00m\n\u001b[1;32m---> 10\u001b[0m     text \u001b[38;5;241m=\u001b[39m \u001b[43mbuild_text_from_questions\u001b[49m\u001b[43m(\u001b[49m\u001b[43mquestions\u001b[49m\u001b[43m,\u001b[49m\u001b[43m \u001b[49m\u001b[38;5;124;43m\"\u001b[39;49m\u001b[38;5;124;43m.\u001b[39;49m\u001b[38;5;130;43;01m\\\\\u001b[39;49;00m\u001b[38;5;124;43m\"\u001b[39;49m\u001b[43m \u001b[49m\u001b[38;5;241;43m+\u001b[39;49m\u001b[43m \u001b[49m\u001b[43mbenchmark_name\u001b[49m\u001b[43m \u001b[49m\u001b[38;5;241;43m+\u001b[39;49m\u001b[43m \u001b[49m\u001b[38;5;124;43m\"\u001b[39;49m\u001b[38;5;130;43;01m\\\\\u001b[39;49;00m\u001b[38;5;124;43mresults\u001b[39;49m\u001b[38;5;130;43;01m\\\\\u001b[39;49;00m\u001b[38;5;124;43mquestions_as_text.txt\u001b[39;49m\u001b[38;5;124;43m\"\u001b[39;49m\u001b[43m)\u001b[49m\n\u001b[0;32m     11\u001b[0m     \u001b[38;5;28mprint\u001b[39m(\u001b[38;5;124m\"\u001b[39m\u001b[38;5;124mText built...\u001b[39m\u001b[38;5;124m\"\u001b[39m)\n\u001b[0;32m     12\u001b[0m     english \u001b[38;5;241m=\u001b[39m Word_Processing\u001b[38;5;241m.\u001b[39mload_dictionary()\n",
      "Input \u001b[1;32mIn [8]\u001b[0m, in \u001b[0;36mbuild_text_from_questions\u001b[1;34m(questions, write_to, remove_stopwords)\u001b[0m\n\u001b[0;32m     10\u001b[0m \u001b[38;5;28;01mfor\u001b[39;00m question \u001b[38;5;129;01min\u001b[39;00m questions:\n\u001b[0;32m     11\u001b[0m     text \u001b[38;5;241m+\u001b[39m\u001b[38;5;241m=\u001b[39m \u001b[38;5;124m\"\u001b[39m\u001b[38;5;124m \u001b[39m\u001b[38;5;124m\"\u001b[39m \u001b[38;5;241m+\u001b[39m \u001b[38;5;28mstr\u001b[39m(question[\u001b[38;5;124m\"\u001b[39m\u001b[38;5;124minput\u001b[39m\u001b[38;5;124m\"\u001b[39m]) \u001b[38;5;241m+\u001b[39m \u001b[38;5;124m\"\u001b[39m\u001b[38;5;124m \u001b[39m\u001b[38;5;124m\"\u001b[39m \u001b[38;5;241m+\u001b[39m \u001b[38;5;28mstr\u001b[39m(question[\u001b[38;5;124m\"\u001b[39m\u001b[38;5;124mtarget\u001b[39m\u001b[38;5;124m\"\u001b[39m])\n\u001b[1;32m---> 12\u001b[0m \u001b[38;5;28;01mif\u001b[39;00m \u001b[43mremove_stop_words\u001b[49m:\n\u001b[0;32m     13\u001b[0m     text \u001b[38;5;241m=\u001b[39m preprocessing\u001b[38;5;241m.\u001b[39mremove_stopwords(text)\n\u001b[0;32m     14\u001b[0m \u001b[38;5;28;01mif\u001b[39;00m write_to \u001b[38;5;241m!=\u001b[39m \u001b[38;5;28;01mNone\u001b[39;00m:\n",
      "\u001b[1;31mNameError\u001b[0m: name 'remove_stop_words' is not defined"
     ]
    }
   ],
   "source": [
    "if __name__ == \"__main__\":\n",
    "    demo()"
   ]
  }
 ],
 "metadata": {
  "kernelspec": {
   "display_name": "Python 3 (ipykernel)",
   "language": "python",
   "name": "python3"
  },
  "language_info": {
   "codemirror_mode": {
    "name": "ipython",
    "version": 3
   },
   "file_extension": ".py",
   "mimetype": "text/x-python",
   "name": "python",
   "nbconvert_exporter": "python",
   "pygments_lexer": "ipython3",
   "version": "3.9.12"
  }
 },
 "nbformat": 4,
 "nbformat_minor": 5
}
